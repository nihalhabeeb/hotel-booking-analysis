{
  "nbformat": 4,
  "nbformat_minor": 0,
  "metadata": {
    "kernelspec": {
      "display_name": "Python 3",
      "language": "python",
      "name": "python3"
    },
    "language_info": {
      "codemirror_mode": {
        "name": "ipython",
        "version": 3
      },
      "file_extension": ".py",
      "mimetype": "text/x-python",
      "name": "python",
      "nbconvert_exporter": "python",
      "pygments_lexer": "ipython3",
      "version": "3.6.6"
    },
    "colab": {
      "name": "Hotel Booking Analysis - Capstone Project.ipynb",
      "provenance": [],
      "collapsed_sections": [],
      "include_colab_link": true
    }
  },
  "cells": [
    {
      "cell_type": "markdown",
      "metadata": {
        "id": "view-in-github",
        "colab_type": "text"
      },
      "source": [
        "<a href=\"https://colab.research.google.com/github/nihalhabeeb/hotel-booking-analysis/blob/main/Hotel_Booking_Analysis_Capstone_Project.ipynb\" target=\"_parent\"><img src=\"https://colab.research.google.com/assets/colab-badge.svg\" alt=\"Open In Colab\"/></a>"
      ]
    },
    {
      "cell_type": "markdown",
      "metadata": {
        "id": "Y06xIdG26kRF"
      },
      "source": [
        "## <b> Have you ever wondered when the best time of year to book a hotel room is? Or the optimal length of stay in order to get the best daily rate? What if you wanted to predict whether or not a hotel was likely to receive a disproportionately high number of special requests? This hotel booking dataset can help you explore those questions!\n",
        "\n",
        "## <b>This data set contains booking information for a city hotel and a resort hotel, and includes information such as when the booking was made, length of stay, the number of adults, children, and/or babies, and the number of available parking spaces, among other things. All personally identifying information has been removed from the data. </b>\n",
        "\n",
        "## <b> Explore and analyze the data to discover important factors that govern the bookings. </b>"
      ]
    },
    {
      "cell_type": "markdown",
      "metadata": {
        "id": "2N0h253od5m3"
      },
      "source": [
        "Exploratory data analysis (EDA) is a very critical aspect of data science, which refers to techniques and methods to analyse datasets and understand their characteristics. It helps us understand the data, discover interesting patterns, measure the relationship between variables and detect errors. It is a prerequisite for selecting features and deciding ML models. Sometimes, it is even sufficient for making decisions.\n",
        "\n",
        "Data scientists spent a good amount of time on exploratory analysis."
      ]
    },
    {
      "cell_type": "markdown",
      "metadata": {
        "id": "roJJSUIoi6t7"
      },
      "source": [
        "The analysis of this hotel booking dataset can provide useful information to help the hotels to make appropriate changes to improve their services and thus better the business. We could potentially discover interesting trends that can help a customer in choosing good deals while booking."
      ]
    },
    {
      "cell_type": "markdown",
      "metadata": {
        "id": "h_bBoIYNG2_0"
      },
      "source": [
        "### **Dataset Information:**"
      ]
    },
    {
      "cell_type": "markdown",
      "metadata": {
        "id": "xHfmmtprGrXE"
      },
      "source": [
        "\n",
        "**hotel:** city hotel or resort hotel\n",
        "\n",
        "**is_canceled:** whether the booking was cancelled or not\n",
        "\n",
        "**lead_time:** number of days between entering booking info and arrival of guest\n",
        "\n",
        "**arrival_date_year:** year of arrival\n",
        "\n",
        "**arrival_date_month:** month of arrival\n",
        "\n",
        "**arrival_date_week_number:** week number of arrival date\n",
        "\n",
        "**arrival_date_day_of_month:** day of arrival\n",
        "\n",
        "**stays_in_weekend_nights:** number of weekend nights stayed\n",
        "\n",
        "**stays_in_week_nights:** number of week nights stayed\n",
        "\n",
        "**adults:** number of adult guests\n",
        "\n",
        "**children:** number of children\n",
        "\n",
        "**babies:** number of babies\n",
        "\n",
        "**meal:** type of meal booked:-  Undefined/SC; BB – Bed & Breakfast; HB – Half board; FB – Full board (breakfast, lunch and dinner)\n",
        "\n",
        "**country:** Country of origin of guests\n",
        "\n",
        "**market_segment:** Online TA; Offline TA/TO; Direct; Groups; Corporate; Complementary; Aviation\n",
        "\n",
        "**distribution_channel:** TA/TO; Direct; Corporate; GDS; Undefined\n",
        "\n",
        "**is_repeated_guest:** if the guest has booked earlier\n",
        "\n",
        "**previous_cancellations:** number of bookings guests have cancelled before\n",
        "\n",
        "**previous_bookings_not_canceled:** number of bookings guests have not cancelled before\n",
        "\n",
        "**reserved_room_type:** code of reserved room type (actual type anonymous)\n",
        "\n",
        "**assigned_room_type:** code of room type assigned\n",
        "\n",
        "**booking_changes:** number of changes made in the booking\n",
        "\n",
        "\n",
        "**deposit_type:** No Deposit; Non Refund - deposit of total stay cost made; Refundable – a deposit was made with a value under the total cost of stay.\n",
        "\n",
        "**agent:** ID of agency that made the booking\n",
        "\n",
        "**company:** ID of company responsible for the booking\n",
        "\n",
        "**day_in_waiting_list:** Number of days the booking took before confirmation.\n",
        "\n",
        "**customer_type:** Contract - when the booking some type of contract associated to it; Group – booking is associated to a group; Transient – booking is not part of a group or contract, and not associated to other transient booking; Transient-party – when the booking is transient, but is associated to at least other transient booking\n",
        "\n",
        "**adr:** average daily rate\n",
        "\n",
        "**required_car_parking_spaces:** number of car parking spaces required by the customer\n",
        "\n",
        "**total_of_special_requests:** number of special requests made\n",
        "\n",
        "**reservation_status:** Canceled; Check-Out – customer has checked in but already departed; No-Show – customer did not check-in and did inform the hotel of the reason\n",
        "\n",
        "**reservation_status_date:** date at which last status was set\n"
      ]
    },
    {
      "cell_type": "markdown",
      "metadata": {
        "id": "jeR08Fgt5ieq"
      },
      "source": [
        "The first step is to set up the notebook. We can begin by mounting google drive and importing necessary libraries."
      ]
    },
    {
      "cell_type": "code",
      "metadata": {
        "colab": {
          "base_uri": "https://localhost:8080/"
        },
        "id": "TEOiLQsz2nyN",
        "outputId": "9c1f8cd1-fcc7-4b7c-81c5-30fd7996715c"
      },
      "source": [
        "from google.colab import drive\n",
        "drive.mount('/content/drive')"
      ],
      "execution_count": null,
      "outputs": [
        {
          "output_type": "stream",
          "name": "stdout",
          "text": [
            "Drive already mounted at /content/drive; to attempt to forcibly remount, call drive.mount(\"/content/drive\", force_remount=True).\n"
          ]
        }
      ]
    },
    {
      "cell_type": "code",
      "metadata": {
        "id": "QTqIQm-c2sPQ"
      },
      "source": [
        "## Importing Libraries\n",
        "import pandas as pd\n",
        "import numpy as np\n",
        "import seaborn as sns\n",
        "import matplotlib.pyplot as plt\n",
        "import warnings\n",
        "warnings.filterwarnings('ignore')"
      ],
      "execution_count": null,
      "outputs": []
    },
    {
      "cell_type": "markdown",
      "metadata": {
        "id": "ITJ3dsQy0flC"
      },
      "source": [
        "Then the dataset can be loaded as a pandas dataframe "
      ]
    },
    {
      "cell_type": "code",
      "metadata": {
        "id": "Jcx_KROB3Hfq"
      },
      "source": [
        "file_path = '/content/drive/MyDrive/AlmaBetter/Capstone Projects/EDA/Hotel Bookings.csv'\n",
        "hotel_df = pd.read_csv(file_path)  "
      ],
      "execution_count": null,
      "outputs": []
    },
    {
      "cell_type": "code",
      "metadata": {
        "colab": {
          "base_uri": "https://localhost:8080/"
        },
        "id": "c9vOIf5p51Eh",
        "outputId": "d75ea01d-e562-4422-97cb-55d0aeae6ccc"
      },
      "source": [
        "# shape of the dataset\n",
        "hotel_df.shape"
      ],
      "execution_count": null,
      "outputs": [
        {
          "output_type": "execute_result",
          "data": {
            "text/plain": [
              "(119390, 32)"
            ]
          },
          "metadata": {},
          "execution_count": 5
        }
      ]
    },
    {
      "cell_type": "markdown",
      "metadata": {
        "id": "hzaBs7MO04So"
      },
      "source": [
        "Great..! We know that our dataset has 119390 rows and 32 columns. Let us get some information on the data types and null values in each column."
      ]
    },
    {
      "cell_type": "code",
      "metadata": {
        "colab": {
          "base_uri": "https://localhost:8080/"
        },
        "id": "EaV4bqtG7Eia",
        "outputId": "a161bee6-b3a0-4099-e706-d6003feae063"
      },
      "source": [
        "hotel_df.info()"
      ],
      "execution_count": null,
      "outputs": [
        {
          "output_type": "stream",
          "name": "stdout",
          "text": [
            "<class 'pandas.core.frame.DataFrame'>\n",
            "RangeIndex: 119390 entries, 0 to 119389\n",
            "Data columns (total 32 columns):\n",
            " #   Column                          Non-Null Count   Dtype  \n",
            "---  ------                          --------------   -----  \n",
            " 0   hotel                           119390 non-null  object \n",
            " 1   is_canceled                     119390 non-null  int64  \n",
            " 2   lead_time                       119390 non-null  int64  \n",
            " 3   arrival_date_year               119390 non-null  int64  \n",
            " 4   arrival_date_month              119390 non-null  object \n",
            " 5   arrival_date_week_number        119390 non-null  int64  \n",
            " 6   arrival_date_day_of_month       119390 non-null  int64  \n",
            " 7   stays_in_weekend_nights         119390 non-null  int64  \n",
            " 8   stays_in_week_nights            119390 non-null  int64  \n",
            " 9   adults                          119390 non-null  int64  \n",
            " 10  children                        119386 non-null  float64\n",
            " 11  babies                          119390 non-null  int64  \n",
            " 12  meal                            119390 non-null  object \n",
            " 13  country                         118902 non-null  object \n",
            " 14  market_segment                  119390 non-null  object \n",
            " 15  distribution_channel            119390 non-null  object \n",
            " 16  is_repeated_guest               119390 non-null  int64  \n",
            " 17  previous_cancellations          119390 non-null  int64  \n",
            " 18  previous_bookings_not_canceled  119390 non-null  int64  \n",
            " 19  reserved_room_type              119390 non-null  object \n",
            " 20  assigned_room_type              119390 non-null  object \n",
            " 21  booking_changes                 119390 non-null  int64  \n",
            " 22  deposit_type                    119390 non-null  object \n",
            " 23  agent                           103050 non-null  float64\n",
            " 24  company                         6797 non-null    float64\n",
            " 25  days_in_waiting_list            119390 non-null  int64  \n",
            " 26  customer_type                   119390 non-null  object \n",
            " 27  adr                             119390 non-null  float64\n",
            " 28  required_car_parking_spaces     119390 non-null  int64  \n",
            " 29  total_of_special_requests       119390 non-null  int64  \n",
            " 30  reservation_status              119390 non-null  object \n",
            " 31  reservation_status_date         119390 non-null  object \n",
            "dtypes: float64(4), int64(16), object(12)\n",
            "memory usage: 29.1+ MB\n"
          ]
        }
      ]
    },
    {
      "cell_type": "markdown",
      "metadata": {
        "id": "ieWvsLmNrgnr"
      },
      "source": [
        "describe() method can be used to get statistical information about the dataset. We were able to make some very important findings using this information (which comes later in the notebook)."
      ]
    },
    {
      "cell_type": "code",
      "metadata": {
        "colab": {
          "base_uri": "https://localhost:8080/",
          "height": 432
        },
        "id": "eGx0wWRKreEw",
        "outputId": "dc9abf0a-6711-4c74-a5d1-0577e556540d"
      },
      "source": [
        "hotel_df.describe(include='all')"
      ],
      "execution_count": null,
      "outputs": [
        {
          "output_type": "execute_result",
          "data": {
            "text/html": [
              "<div>\n",
              "<style scoped>\n",
              "    .dataframe tbody tr th:only-of-type {\n",
              "        vertical-align: middle;\n",
              "    }\n",
              "\n",
              "    .dataframe tbody tr th {\n",
              "        vertical-align: top;\n",
              "    }\n",
              "\n",
              "    .dataframe thead th {\n",
              "        text-align: right;\n",
              "    }\n",
              "</style>\n",
              "<table border=\"1\" class=\"dataframe\">\n",
              "  <thead>\n",
              "    <tr style=\"text-align: right;\">\n",
              "      <th></th>\n",
              "      <th>hotel</th>\n",
              "      <th>is_canceled</th>\n",
              "      <th>lead_time</th>\n",
              "      <th>arrival_date_year</th>\n",
              "      <th>arrival_date_month</th>\n",
              "      <th>arrival_date_week_number</th>\n",
              "      <th>arrival_date_day_of_month</th>\n",
              "      <th>stays_in_weekend_nights</th>\n",
              "      <th>stays_in_week_nights</th>\n",
              "      <th>adults</th>\n",
              "      <th>children</th>\n",
              "      <th>babies</th>\n",
              "      <th>meal</th>\n",
              "      <th>country</th>\n",
              "      <th>market_segment</th>\n",
              "      <th>distribution_channel</th>\n",
              "      <th>is_repeated_guest</th>\n",
              "      <th>previous_cancellations</th>\n",
              "      <th>previous_bookings_not_canceled</th>\n",
              "      <th>reserved_room_type</th>\n",
              "      <th>assigned_room_type</th>\n",
              "      <th>booking_changes</th>\n",
              "      <th>deposit_type</th>\n",
              "      <th>agent</th>\n",
              "      <th>company</th>\n",
              "      <th>days_in_waiting_list</th>\n",
              "      <th>customer_type</th>\n",
              "      <th>adr</th>\n",
              "      <th>required_car_parking_spaces</th>\n",
              "      <th>total_of_special_requests</th>\n",
              "      <th>reservation_status</th>\n",
              "      <th>reservation_status_date</th>\n",
              "    </tr>\n",
              "  </thead>\n",
              "  <tbody>\n",
              "    <tr>\n",
              "      <th>count</th>\n",
              "      <td>119390</td>\n",
              "      <td>119390.000000</td>\n",
              "      <td>119390.000000</td>\n",
              "      <td>119390.000000</td>\n",
              "      <td>119390</td>\n",
              "      <td>119390.000000</td>\n",
              "      <td>119390.000000</td>\n",
              "      <td>119390.000000</td>\n",
              "      <td>119390.000000</td>\n",
              "      <td>119390.000000</td>\n",
              "      <td>119386.000000</td>\n",
              "      <td>119390.000000</td>\n",
              "      <td>119390</td>\n",
              "      <td>118902</td>\n",
              "      <td>119390</td>\n",
              "      <td>119390</td>\n",
              "      <td>119390.000000</td>\n",
              "      <td>119390.000000</td>\n",
              "      <td>119390.000000</td>\n",
              "      <td>119390</td>\n",
              "      <td>119390</td>\n",
              "      <td>119390.000000</td>\n",
              "      <td>119390</td>\n",
              "      <td>103050.000000</td>\n",
              "      <td>6797.000000</td>\n",
              "      <td>119390.000000</td>\n",
              "      <td>119390</td>\n",
              "      <td>119390.000000</td>\n",
              "      <td>119390.000000</td>\n",
              "      <td>119390.000000</td>\n",
              "      <td>119390</td>\n",
              "      <td>119390</td>\n",
              "    </tr>\n",
              "    <tr>\n",
              "      <th>unique</th>\n",
              "      <td>2</td>\n",
              "      <td>NaN</td>\n",
              "      <td>NaN</td>\n",
              "      <td>NaN</td>\n",
              "      <td>12</td>\n",
              "      <td>NaN</td>\n",
              "      <td>NaN</td>\n",
              "      <td>NaN</td>\n",
              "      <td>NaN</td>\n",
              "      <td>NaN</td>\n",
              "      <td>NaN</td>\n",
              "      <td>NaN</td>\n",
              "      <td>5</td>\n",
              "      <td>177</td>\n",
              "      <td>8</td>\n",
              "      <td>5</td>\n",
              "      <td>NaN</td>\n",
              "      <td>NaN</td>\n",
              "      <td>NaN</td>\n",
              "      <td>10</td>\n",
              "      <td>12</td>\n",
              "      <td>NaN</td>\n",
              "      <td>3</td>\n",
              "      <td>NaN</td>\n",
              "      <td>NaN</td>\n",
              "      <td>NaN</td>\n",
              "      <td>4</td>\n",
              "      <td>NaN</td>\n",
              "      <td>NaN</td>\n",
              "      <td>NaN</td>\n",
              "      <td>3</td>\n",
              "      <td>926</td>\n",
              "    </tr>\n",
              "    <tr>\n",
              "      <th>top</th>\n",
              "      <td>City Hotel</td>\n",
              "      <td>NaN</td>\n",
              "      <td>NaN</td>\n",
              "      <td>NaN</td>\n",
              "      <td>August</td>\n",
              "      <td>NaN</td>\n",
              "      <td>NaN</td>\n",
              "      <td>NaN</td>\n",
              "      <td>NaN</td>\n",
              "      <td>NaN</td>\n",
              "      <td>NaN</td>\n",
              "      <td>NaN</td>\n",
              "      <td>BB</td>\n",
              "      <td>PRT</td>\n",
              "      <td>Online TA</td>\n",
              "      <td>TA/TO</td>\n",
              "      <td>NaN</td>\n",
              "      <td>NaN</td>\n",
              "      <td>NaN</td>\n",
              "      <td>A</td>\n",
              "      <td>A</td>\n",
              "      <td>NaN</td>\n",
              "      <td>No Deposit</td>\n",
              "      <td>NaN</td>\n",
              "      <td>NaN</td>\n",
              "      <td>NaN</td>\n",
              "      <td>Transient</td>\n",
              "      <td>NaN</td>\n",
              "      <td>NaN</td>\n",
              "      <td>NaN</td>\n",
              "      <td>Check-Out</td>\n",
              "      <td>2015-10-21</td>\n",
              "    </tr>\n",
              "    <tr>\n",
              "      <th>freq</th>\n",
              "      <td>79330</td>\n",
              "      <td>NaN</td>\n",
              "      <td>NaN</td>\n",
              "      <td>NaN</td>\n",
              "      <td>13877</td>\n",
              "      <td>NaN</td>\n",
              "      <td>NaN</td>\n",
              "      <td>NaN</td>\n",
              "      <td>NaN</td>\n",
              "      <td>NaN</td>\n",
              "      <td>NaN</td>\n",
              "      <td>NaN</td>\n",
              "      <td>92310</td>\n",
              "      <td>48590</td>\n",
              "      <td>56477</td>\n",
              "      <td>97870</td>\n",
              "      <td>NaN</td>\n",
              "      <td>NaN</td>\n",
              "      <td>NaN</td>\n",
              "      <td>85994</td>\n",
              "      <td>74053</td>\n",
              "      <td>NaN</td>\n",
              "      <td>104641</td>\n",
              "      <td>NaN</td>\n",
              "      <td>NaN</td>\n",
              "      <td>NaN</td>\n",
              "      <td>89613</td>\n",
              "      <td>NaN</td>\n",
              "      <td>NaN</td>\n",
              "      <td>NaN</td>\n",
              "      <td>75166</td>\n",
              "      <td>1461</td>\n",
              "    </tr>\n",
              "    <tr>\n",
              "      <th>mean</th>\n",
              "      <td>NaN</td>\n",
              "      <td>0.370416</td>\n",
              "      <td>104.011416</td>\n",
              "      <td>2016.156554</td>\n",
              "      <td>NaN</td>\n",
              "      <td>27.165173</td>\n",
              "      <td>15.798241</td>\n",
              "      <td>0.927599</td>\n",
              "      <td>2.500302</td>\n",
              "      <td>1.856403</td>\n",
              "      <td>0.103890</td>\n",
              "      <td>0.007949</td>\n",
              "      <td>NaN</td>\n",
              "      <td>NaN</td>\n",
              "      <td>NaN</td>\n",
              "      <td>NaN</td>\n",
              "      <td>0.031912</td>\n",
              "      <td>0.087118</td>\n",
              "      <td>0.137097</td>\n",
              "      <td>NaN</td>\n",
              "      <td>NaN</td>\n",
              "      <td>0.221124</td>\n",
              "      <td>NaN</td>\n",
              "      <td>86.693382</td>\n",
              "      <td>189.266735</td>\n",
              "      <td>2.321149</td>\n",
              "      <td>NaN</td>\n",
              "      <td>101.831122</td>\n",
              "      <td>0.062518</td>\n",
              "      <td>0.571363</td>\n",
              "      <td>NaN</td>\n",
              "      <td>NaN</td>\n",
              "    </tr>\n",
              "    <tr>\n",
              "      <th>std</th>\n",
              "      <td>NaN</td>\n",
              "      <td>0.482918</td>\n",
              "      <td>106.863097</td>\n",
              "      <td>0.707476</td>\n",
              "      <td>NaN</td>\n",
              "      <td>13.605138</td>\n",
              "      <td>8.780829</td>\n",
              "      <td>0.998613</td>\n",
              "      <td>1.908286</td>\n",
              "      <td>0.579261</td>\n",
              "      <td>0.398561</td>\n",
              "      <td>0.097436</td>\n",
              "      <td>NaN</td>\n",
              "      <td>NaN</td>\n",
              "      <td>NaN</td>\n",
              "      <td>NaN</td>\n",
              "      <td>0.175767</td>\n",
              "      <td>0.844336</td>\n",
              "      <td>1.497437</td>\n",
              "      <td>NaN</td>\n",
              "      <td>NaN</td>\n",
              "      <td>0.652306</td>\n",
              "      <td>NaN</td>\n",
              "      <td>110.774548</td>\n",
              "      <td>131.655015</td>\n",
              "      <td>17.594721</td>\n",
              "      <td>NaN</td>\n",
              "      <td>50.535790</td>\n",
              "      <td>0.245291</td>\n",
              "      <td>0.792798</td>\n",
              "      <td>NaN</td>\n",
              "      <td>NaN</td>\n",
              "    </tr>\n",
              "    <tr>\n",
              "      <th>min</th>\n",
              "      <td>NaN</td>\n",
              "      <td>0.000000</td>\n",
              "      <td>0.000000</td>\n",
              "      <td>2015.000000</td>\n",
              "      <td>NaN</td>\n",
              "      <td>1.000000</td>\n",
              "      <td>1.000000</td>\n",
              "      <td>0.000000</td>\n",
              "      <td>0.000000</td>\n",
              "      <td>0.000000</td>\n",
              "      <td>0.000000</td>\n",
              "      <td>0.000000</td>\n",
              "      <td>NaN</td>\n",
              "      <td>NaN</td>\n",
              "      <td>NaN</td>\n",
              "      <td>NaN</td>\n",
              "      <td>0.000000</td>\n",
              "      <td>0.000000</td>\n",
              "      <td>0.000000</td>\n",
              "      <td>NaN</td>\n",
              "      <td>NaN</td>\n",
              "      <td>0.000000</td>\n",
              "      <td>NaN</td>\n",
              "      <td>1.000000</td>\n",
              "      <td>6.000000</td>\n",
              "      <td>0.000000</td>\n",
              "      <td>NaN</td>\n",
              "      <td>-6.380000</td>\n",
              "      <td>0.000000</td>\n",
              "      <td>0.000000</td>\n",
              "      <td>NaN</td>\n",
              "      <td>NaN</td>\n",
              "    </tr>\n",
              "    <tr>\n",
              "      <th>25%</th>\n",
              "      <td>NaN</td>\n",
              "      <td>0.000000</td>\n",
              "      <td>18.000000</td>\n",
              "      <td>2016.000000</td>\n",
              "      <td>NaN</td>\n",
              "      <td>16.000000</td>\n",
              "      <td>8.000000</td>\n",
              "      <td>0.000000</td>\n",
              "      <td>1.000000</td>\n",
              "      <td>2.000000</td>\n",
              "      <td>0.000000</td>\n",
              "      <td>0.000000</td>\n",
              "      <td>NaN</td>\n",
              "      <td>NaN</td>\n",
              "      <td>NaN</td>\n",
              "      <td>NaN</td>\n",
              "      <td>0.000000</td>\n",
              "      <td>0.000000</td>\n",
              "      <td>0.000000</td>\n",
              "      <td>NaN</td>\n",
              "      <td>NaN</td>\n",
              "      <td>0.000000</td>\n",
              "      <td>NaN</td>\n",
              "      <td>9.000000</td>\n",
              "      <td>62.000000</td>\n",
              "      <td>0.000000</td>\n",
              "      <td>NaN</td>\n",
              "      <td>69.290000</td>\n",
              "      <td>0.000000</td>\n",
              "      <td>0.000000</td>\n",
              "      <td>NaN</td>\n",
              "      <td>NaN</td>\n",
              "    </tr>\n",
              "    <tr>\n",
              "      <th>50%</th>\n",
              "      <td>NaN</td>\n",
              "      <td>0.000000</td>\n",
              "      <td>69.000000</td>\n",
              "      <td>2016.000000</td>\n",
              "      <td>NaN</td>\n",
              "      <td>28.000000</td>\n",
              "      <td>16.000000</td>\n",
              "      <td>1.000000</td>\n",
              "      <td>2.000000</td>\n",
              "      <td>2.000000</td>\n",
              "      <td>0.000000</td>\n",
              "      <td>0.000000</td>\n",
              "      <td>NaN</td>\n",
              "      <td>NaN</td>\n",
              "      <td>NaN</td>\n",
              "      <td>NaN</td>\n",
              "      <td>0.000000</td>\n",
              "      <td>0.000000</td>\n",
              "      <td>0.000000</td>\n",
              "      <td>NaN</td>\n",
              "      <td>NaN</td>\n",
              "      <td>0.000000</td>\n",
              "      <td>NaN</td>\n",
              "      <td>14.000000</td>\n",
              "      <td>179.000000</td>\n",
              "      <td>0.000000</td>\n",
              "      <td>NaN</td>\n",
              "      <td>94.575000</td>\n",
              "      <td>0.000000</td>\n",
              "      <td>0.000000</td>\n",
              "      <td>NaN</td>\n",
              "      <td>NaN</td>\n",
              "    </tr>\n",
              "    <tr>\n",
              "      <th>75%</th>\n",
              "      <td>NaN</td>\n",
              "      <td>1.000000</td>\n",
              "      <td>160.000000</td>\n",
              "      <td>2017.000000</td>\n",
              "      <td>NaN</td>\n",
              "      <td>38.000000</td>\n",
              "      <td>23.000000</td>\n",
              "      <td>2.000000</td>\n",
              "      <td>3.000000</td>\n",
              "      <td>2.000000</td>\n",
              "      <td>0.000000</td>\n",
              "      <td>0.000000</td>\n",
              "      <td>NaN</td>\n",
              "      <td>NaN</td>\n",
              "      <td>NaN</td>\n",
              "      <td>NaN</td>\n",
              "      <td>0.000000</td>\n",
              "      <td>0.000000</td>\n",
              "      <td>0.000000</td>\n",
              "      <td>NaN</td>\n",
              "      <td>NaN</td>\n",
              "      <td>0.000000</td>\n",
              "      <td>NaN</td>\n",
              "      <td>229.000000</td>\n",
              "      <td>270.000000</td>\n",
              "      <td>0.000000</td>\n",
              "      <td>NaN</td>\n",
              "      <td>126.000000</td>\n",
              "      <td>0.000000</td>\n",
              "      <td>1.000000</td>\n",
              "      <td>NaN</td>\n",
              "      <td>NaN</td>\n",
              "    </tr>\n",
              "    <tr>\n",
              "      <th>max</th>\n",
              "      <td>NaN</td>\n",
              "      <td>1.000000</td>\n",
              "      <td>737.000000</td>\n",
              "      <td>2017.000000</td>\n",
              "      <td>NaN</td>\n",
              "      <td>53.000000</td>\n",
              "      <td>31.000000</td>\n",
              "      <td>19.000000</td>\n",
              "      <td>50.000000</td>\n",
              "      <td>55.000000</td>\n",
              "      <td>10.000000</td>\n",
              "      <td>10.000000</td>\n",
              "      <td>NaN</td>\n",
              "      <td>NaN</td>\n",
              "      <td>NaN</td>\n",
              "      <td>NaN</td>\n",
              "      <td>1.000000</td>\n",
              "      <td>26.000000</td>\n",
              "      <td>72.000000</td>\n",
              "      <td>NaN</td>\n",
              "      <td>NaN</td>\n",
              "      <td>21.000000</td>\n",
              "      <td>NaN</td>\n",
              "      <td>535.000000</td>\n",
              "      <td>543.000000</td>\n",
              "      <td>391.000000</td>\n",
              "      <td>NaN</td>\n",
              "      <td>5400.000000</td>\n",
              "      <td>8.000000</td>\n",
              "      <td>5.000000</td>\n",
              "      <td>NaN</td>\n",
              "      <td>NaN</td>\n",
              "    </tr>\n",
              "  </tbody>\n",
              "</table>\n",
              "</div>"
            ],
            "text/plain": [
              "             hotel    is_canceled  ...  reservation_status  reservation_status_date\n",
              "count       119390  119390.000000  ...              119390                   119390\n",
              "unique           2            NaN  ...                   3                      926\n",
              "top     City Hotel            NaN  ...           Check-Out               2015-10-21\n",
              "freq         79330            NaN  ...               75166                     1461\n",
              "mean           NaN       0.370416  ...                 NaN                      NaN\n",
              "std            NaN       0.482918  ...                 NaN                      NaN\n",
              "min            NaN       0.000000  ...                 NaN                      NaN\n",
              "25%            NaN       0.000000  ...                 NaN                      NaN\n",
              "50%            NaN       0.000000  ...                 NaN                      NaN\n",
              "75%            NaN       1.000000  ...                 NaN                      NaN\n",
              "max            NaN       1.000000  ...                 NaN                      NaN\n",
              "\n",
              "[11 rows x 32 columns]"
            ]
          },
          "metadata": {},
          "execution_count": 7
        }
      ]
    },
    {
      "cell_type": "markdown",
      "metadata": {
        "id": "CxhEiRSNMnz6"
      },
      "source": [
        "## Preparing and cleaning the dataset"
      ]
    },
    {
      "cell_type": "markdown",
      "metadata": {
        "id": "GOVI4qU3I7dk"
      },
      "source": [
        "### Handing Null Values"
      ]
    },
    {
      "cell_type": "markdown",
      "metadata": {
        "id": "BJzBppGm1XSD"
      },
      "source": [
        "Now lets find out how many missing values are there in our data set"
      ]
    },
    {
      "cell_type": "code",
      "metadata": {
        "colab": {
          "base_uri": "https://localhost:8080/"
        },
        "id": "KWiEbBU61guV",
        "outputId": "0b79c17d-7a10-44d7-9062-094bc623da64"
      },
      "source": [
        "hotel_df.isnull().sum().sort_values(ascending = False)"
      ],
      "execution_count": null,
      "outputs": [
        {
          "output_type": "execute_result",
          "data": {
            "text/plain": [
              "company                           112593\n",
              "agent                              16340\n",
              "country                              488\n",
              "children                               4\n",
              "lead_time                              0\n",
              "arrival_date_year                      0\n",
              "arrival_date_month                     0\n",
              "arrival_date_week_number               0\n",
              "is_canceled                            0\n",
              "market_segment                         0\n",
              "arrival_date_day_of_month              0\n",
              "stays_in_weekend_nights                0\n",
              "stays_in_week_nights                   0\n",
              "adults                                 0\n",
              "babies                                 0\n",
              "meal                                   0\n",
              "reservation_status_date                0\n",
              "distribution_channel                   0\n",
              "reservation_status                     0\n",
              "is_repeated_guest                      0\n",
              "previous_cancellations                 0\n",
              "previous_bookings_not_canceled         0\n",
              "reserved_room_type                     0\n",
              "assigned_room_type                     0\n",
              "booking_changes                        0\n",
              "deposit_type                           0\n",
              "days_in_waiting_list                   0\n",
              "customer_type                          0\n",
              "adr                                    0\n",
              "required_car_parking_spaces            0\n",
              "total_of_special_requests              0\n",
              "hotel                                  0\n",
              "dtype: int64"
            ]
          },
          "metadata": {},
          "execution_count": 8
        }
      ]
    },
    {
      "cell_type": "markdown",
      "metadata": {
        "id": "L60hA95aGTO2"
      },
      "source": [
        "The percentage of null values in each columns give a better picture and will help us to decide if any columns have to be removed."
      ]
    },
    {
      "cell_type": "code",
      "metadata": {
        "colab": {
          "base_uri": "https://localhost:8080/"
        },
        "id": "aSik-VS0Fjx4",
        "outputId": "26571248-b8bd-4a9d-8360-3d041544f097"
      },
      "source": [
        "hotel_df.isnull().sum().sort_values(ascending = False)/len(hotel_df.index)*100"
      ],
      "execution_count": null,
      "outputs": [
        {
          "output_type": "execute_result",
          "data": {
            "text/plain": [
              "company                           94.306893\n",
              "agent                             13.686238\n",
              "country                            0.408744\n",
              "children                           0.003350\n",
              "lead_time                          0.000000\n",
              "arrival_date_year                  0.000000\n",
              "arrival_date_month                 0.000000\n",
              "arrival_date_week_number           0.000000\n",
              "is_canceled                        0.000000\n",
              "market_segment                     0.000000\n",
              "arrival_date_day_of_month          0.000000\n",
              "stays_in_weekend_nights            0.000000\n",
              "stays_in_week_nights               0.000000\n",
              "adults                             0.000000\n",
              "babies                             0.000000\n",
              "meal                               0.000000\n",
              "reservation_status_date            0.000000\n",
              "distribution_channel               0.000000\n",
              "reservation_status                 0.000000\n",
              "is_repeated_guest                  0.000000\n",
              "previous_cancellations             0.000000\n",
              "previous_bookings_not_canceled     0.000000\n",
              "reserved_room_type                 0.000000\n",
              "assigned_room_type                 0.000000\n",
              "booking_changes                    0.000000\n",
              "deposit_type                       0.000000\n",
              "days_in_waiting_list               0.000000\n",
              "customer_type                      0.000000\n",
              "adr                                0.000000\n",
              "required_car_parking_spaces        0.000000\n",
              "total_of_special_requests          0.000000\n",
              "hotel                              0.000000\n",
              "dtype: float64"
            ]
          },
          "metadata": {},
          "execution_count": 9
        }
      ]
    },
    {
      "cell_type": "markdown",
      "metadata": {
        "id": "7XGbXsM-Gg0V"
      },
      "source": [
        "The 'company' column has around 94% null values! The 'agent' column has much less but still non-negligible amount (around 14%) of null values. The 'country' and 'children' have negligible amount of null values."
      ]
    },
    {
      "cell_type": "code",
      "metadata": {
        "colab": {
          "base_uri": "https://localhost:8080/"
        },
        "id": "qAzSBDRqGYl_",
        "outputId": "31479dfd-64b7-46a0-8489-b9186184b271"
      },
      "source": [
        "# looking at an element in the agent column\n",
        "hotel_df['agent'][10]"
      ],
      "execution_count": null,
      "outputs": [
        {
          "output_type": "execute_result",
          "data": {
            "text/plain": [
              "240.0"
            ]
          },
          "metadata": {},
          "execution_count": 10
        }
      ]
    },
    {
      "cell_type": "markdown",
      "metadata": {
        "id": "s5dh3_ISHAW3"
      },
      "source": [
        "The 'agent' column consists of float values. A little research about the dataset on the internet revealed that this column refers to the agent's ID. So, the null values cannot be replaced by a value imputed from the rest of the values to make any sense. Since, they are just IDs it is better to remove the column entirely as they won't be necessary in any analysis considering the fact that a good amount of null values are present."
      ]
    },
    {
      "cell_type": "markdown",
      "metadata": {
        "id": "N6rLOrnZHNU-"
      },
      "source": [
        "The 'company' column can be removed easily as most of the values are null. Those values also refer to the company ID and removing them is not an issue anyway."
      ]
    },
    {
      "cell_type": "code",
      "metadata": {
        "id": "HYamxZSCG6pW"
      },
      "source": [
        "hotel_df = hotel_df.drop(columns=['company','agent'],axis=1)"
      ],
      "execution_count": null,
      "outputs": []
    },
    {
      "cell_type": "markdown",
      "metadata": {
        "id": "FhrXn9yltrK9"
      },
      "source": [
        "The 'children' and 'country' columns have some null values. Those rows which contain the null values can be removed from the analysis."
      ]
    },
    {
      "cell_type": "code",
      "metadata": {
        "id": "BgQka8vxHbmB"
      },
      "source": [
        "# dropping the rows with null values completely\n",
        "hotel_df = hotel_df.dropna(axis=0)"
      ],
      "execution_count": null,
      "outputs": []
    },
    {
      "cell_type": "markdown",
      "metadata": {
        "id": "J8NkutHjXBGQ"
      },
      "source": [
        "Now we can see that there are no null values in the data set"
      ]
    },
    {
      "cell_type": "code",
      "metadata": {
        "colab": {
          "base_uri": "https://localhost:8080/"
        },
        "id": "jKZR-3DdXCet",
        "outputId": "44dd87d7-6e96-48f7-cb0e-07dab06707e8"
      },
      "source": [
        "hotel_df.isnull().sum()"
      ],
      "execution_count": null,
      "outputs": [
        {
          "output_type": "execute_result",
          "data": {
            "text/plain": [
              "hotel                             0\n",
              "is_canceled                       0\n",
              "lead_time                         0\n",
              "arrival_date_year                 0\n",
              "arrival_date_month                0\n",
              "arrival_date_week_number          0\n",
              "arrival_date_day_of_month         0\n",
              "stays_in_weekend_nights           0\n",
              "stays_in_week_nights              0\n",
              "adults                            0\n",
              "children                          0\n",
              "babies                            0\n",
              "meal                              0\n",
              "country                           0\n",
              "market_segment                    0\n",
              "distribution_channel              0\n",
              "is_repeated_guest                 0\n",
              "previous_cancellations            0\n",
              "previous_bookings_not_canceled    0\n",
              "reserved_room_type                0\n",
              "assigned_room_type                0\n",
              "booking_changes                   0\n",
              "deposit_type                      0\n",
              "days_in_waiting_list              0\n",
              "customer_type                     0\n",
              "adr                               0\n",
              "required_car_parking_spaces       0\n",
              "total_of_special_requests         0\n",
              "reservation_status                0\n",
              "reservation_status_date           0\n",
              "dtype: int64"
            ]
          },
          "metadata": {},
          "execution_count": 13
        }
      ]
    },
    {
      "cell_type": "markdown",
      "metadata": {
        "id": "8nHOa6x4xi1c"
      },
      "source": [
        "### Handling Some Data That Don't Make Any Sense!"
      ]
    },
    {
      "cell_type": "markdown",
      "metadata": {
        "id": "cuKqYhjmxp_8"
      },
      "source": [
        "From the describe() method used earlier we noticed something. The minimum value of adults column is zero. While it is possible that there are bookings done by children only without any adult present it is better to check those data carefully."
      ]
    },
    {
      "cell_type": "code",
      "metadata": {
        "id": "-AoYCLJCwcru",
        "colab": {
          "base_uri": "https://localhost:8080/",
          "height": 313
        },
        "outputId": "19569151-b6ee-4178-8f38-b64082852cce"
      },
      "source": [
        "# getting the data with adults column having zero value\n",
        "hotel_df[hotel_df.adults == 0].head()"
      ],
      "execution_count": null,
      "outputs": [
        {
          "output_type": "execute_result",
          "data": {
            "text/html": [
              "<div>\n",
              "<style scoped>\n",
              "    .dataframe tbody tr th:only-of-type {\n",
              "        vertical-align: middle;\n",
              "    }\n",
              "\n",
              "    .dataframe tbody tr th {\n",
              "        vertical-align: top;\n",
              "    }\n",
              "\n",
              "    .dataframe thead th {\n",
              "        text-align: right;\n",
              "    }\n",
              "</style>\n",
              "<table border=\"1\" class=\"dataframe\">\n",
              "  <thead>\n",
              "    <tr style=\"text-align: right;\">\n",
              "      <th></th>\n",
              "      <th>hotel</th>\n",
              "      <th>is_canceled</th>\n",
              "      <th>lead_time</th>\n",
              "      <th>arrival_date_year</th>\n",
              "      <th>arrival_date_month</th>\n",
              "      <th>arrival_date_week_number</th>\n",
              "      <th>arrival_date_day_of_month</th>\n",
              "      <th>stays_in_weekend_nights</th>\n",
              "      <th>stays_in_week_nights</th>\n",
              "      <th>adults</th>\n",
              "      <th>children</th>\n",
              "      <th>babies</th>\n",
              "      <th>meal</th>\n",
              "      <th>country</th>\n",
              "      <th>market_segment</th>\n",
              "      <th>distribution_channel</th>\n",
              "      <th>is_repeated_guest</th>\n",
              "      <th>previous_cancellations</th>\n",
              "      <th>previous_bookings_not_canceled</th>\n",
              "      <th>reserved_room_type</th>\n",
              "      <th>assigned_room_type</th>\n",
              "      <th>booking_changes</th>\n",
              "      <th>deposit_type</th>\n",
              "      <th>days_in_waiting_list</th>\n",
              "      <th>customer_type</th>\n",
              "      <th>adr</th>\n",
              "      <th>required_car_parking_spaces</th>\n",
              "      <th>total_of_special_requests</th>\n",
              "      <th>reservation_status</th>\n",
              "      <th>reservation_status_date</th>\n",
              "    </tr>\n",
              "  </thead>\n",
              "  <tbody>\n",
              "    <tr>\n",
              "      <th>2224</th>\n",
              "      <td>Resort Hotel</td>\n",
              "      <td>0</td>\n",
              "      <td>1</td>\n",
              "      <td>2015</td>\n",
              "      <td>October</td>\n",
              "      <td>41</td>\n",
              "      <td>6</td>\n",
              "      <td>0</td>\n",
              "      <td>3</td>\n",
              "      <td>0</td>\n",
              "      <td>0.0</td>\n",
              "      <td>0</td>\n",
              "      <td>SC</td>\n",
              "      <td>PRT</td>\n",
              "      <td>Corporate</td>\n",
              "      <td>Corporate</td>\n",
              "      <td>0</td>\n",
              "      <td>0</td>\n",
              "      <td>0</td>\n",
              "      <td>A</td>\n",
              "      <td>I</td>\n",
              "      <td>1</td>\n",
              "      <td>No Deposit</td>\n",
              "      <td>0</td>\n",
              "      <td>Transient-Party</td>\n",
              "      <td>0.0</td>\n",
              "      <td>0</td>\n",
              "      <td>0</td>\n",
              "      <td>Check-Out</td>\n",
              "      <td>2015-10-06</td>\n",
              "    </tr>\n",
              "    <tr>\n",
              "      <th>2409</th>\n",
              "      <td>Resort Hotel</td>\n",
              "      <td>0</td>\n",
              "      <td>0</td>\n",
              "      <td>2015</td>\n",
              "      <td>October</td>\n",
              "      <td>42</td>\n",
              "      <td>12</td>\n",
              "      <td>0</td>\n",
              "      <td>0</td>\n",
              "      <td>0</td>\n",
              "      <td>0.0</td>\n",
              "      <td>0</td>\n",
              "      <td>SC</td>\n",
              "      <td>PRT</td>\n",
              "      <td>Corporate</td>\n",
              "      <td>Corporate</td>\n",
              "      <td>0</td>\n",
              "      <td>0</td>\n",
              "      <td>0</td>\n",
              "      <td>A</td>\n",
              "      <td>I</td>\n",
              "      <td>0</td>\n",
              "      <td>No Deposit</td>\n",
              "      <td>0</td>\n",
              "      <td>Transient</td>\n",
              "      <td>0.0</td>\n",
              "      <td>0</td>\n",
              "      <td>0</td>\n",
              "      <td>Check-Out</td>\n",
              "      <td>2015-10-12</td>\n",
              "    </tr>\n",
              "    <tr>\n",
              "      <th>3181</th>\n",
              "      <td>Resort Hotel</td>\n",
              "      <td>0</td>\n",
              "      <td>36</td>\n",
              "      <td>2015</td>\n",
              "      <td>November</td>\n",
              "      <td>47</td>\n",
              "      <td>20</td>\n",
              "      <td>1</td>\n",
              "      <td>2</td>\n",
              "      <td>0</td>\n",
              "      <td>0.0</td>\n",
              "      <td>0</td>\n",
              "      <td>SC</td>\n",
              "      <td>ESP</td>\n",
              "      <td>Groups</td>\n",
              "      <td>TA/TO</td>\n",
              "      <td>0</td>\n",
              "      <td>0</td>\n",
              "      <td>0</td>\n",
              "      <td>A</td>\n",
              "      <td>C</td>\n",
              "      <td>0</td>\n",
              "      <td>No Deposit</td>\n",
              "      <td>0</td>\n",
              "      <td>Transient-Party</td>\n",
              "      <td>0.0</td>\n",
              "      <td>0</td>\n",
              "      <td>0</td>\n",
              "      <td>Check-Out</td>\n",
              "      <td>2015-11-23</td>\n",
              "    </tr>\n",
              "    <tr>\n",
              "      <th>3684</th>\n",
              "      <td>Resort Hotel</td>\n",
              "      <td>0</td>\n",
              "      <td>165</td>\n",
              "      <td>2015</td>\n",
              "      <td>December</td>\n",
              "      <td>53</td>\n",
              "      <td>30</td>\n",
              "      <td>1</td>\n",
              "      <td>4</td>\n",
              "      <td>0</td>\n",
              "      <td>0.0</td>\n",
              "      <td>0</td>\n",
              "      <td>SC</td>\n",
              "      <td>PRT</td>\n",
              "      <td>Groups</td>\n",
              "      <td>TA/TO</td>\n",
              "      <td>0</td>\n",
              "      <td>0</td>\n",
              "      <td>0</td>\n",
              "      <td>A</td>\n",
              "      <td>A</td>\n",
              "      <td>1</td>\n",
              "      <td>No Deposit</td>\n",
              "      <td>122</td>\n",
              "      <td>Transient-Party</td>\n",
              "      <td>0.0</td>\n",
              "      <td>0</td>\n",
              "      <td>0</td>\n",
              "      <td>Check-Out</td>\n",
              "      <td>2016-01-04</td>\n",
              "    </tr>\n",
              "    <tr>\n",
              "      <th>3708</th>\n",
              "      <td>Resort Hotel</td>\n",
              "      <td>0</td>\n",
              "      <td>165</td>\n",
              "      <td>2015</td>\n",
              "      <td>December</td>\n",
              "      <td>53</td>\n",
              "      <td>30</td>\n",
              "      <td>2</td>\n",
              "      <td>4</td>\n",
              "      <td>0</td>\n",
              "      <td>0.0</td>\n",
              "      <td>0</td>\n",
              "      <td>SC</td>\n",
              "      <td>PRT</td>\n",
              "      <td>Groups</td>\n",
              "      <td>TA/TO</td>\n",
              "      <td>0</td>\n",
              "      <td>0</td>\n",
              "      <td>0</td>\n",
              "      <td>A</td>\n",
              "      <td>C</td>\n",
              "      <td>1</td>\n",
              "      <td>No Deposit</td>\n",
              "      <td>122</td>\n",
              "      <td>Transient-Party</td>\n",
              "      <td>0.0</td>\n",
              "      <td>0</td>\n",
              "      <td>0</td>\n",
              "      <td>Check-Out</td>\n",
              "      <td>2016-01-05</td>\n",
              "    </tr>\n",
              "  </tbody>\n",
              "</table>\n",
              "</div>"
            ],
            "text/plain": [
              "             hotel  is_canceled  ...  reservation_status  reservation_status_date\n",
              "2224  Resort Hotel            0  ...           Check-Out               2015-10-06\n",
              "2409  Resort Hotel            0  ...           Check-Out               2015-10-12\n",
              "3181  Resort Hotel            0  ...           Check-Out               2015-11-23\n",
              "3684  Resort Hotel            0  ...           Check-Out               2016-01-04\n",
              "3708  Resort Hotel            0  ...           Check-Out               2016-01-05\n",
              "\n",
              "[5 rows x 30 columns]"
            ]
          },
          "metadata": {},
          "execution_count": 14
        }
      ]
    },
    {
      "cell_type": "markdown",
      "metadata": {
        "id": "BUH6_Qa6eEO8"
      },
      "source": [
        "There are bookings where the number of adults, children and babies are zero! That would imply there are zero guests in the booking which does not make any sense. We decided to consider such data as incorrect and exclude them from the analysis."
      ]
    },
    {
      "cell_type": "markdown",
      "metadata": {
        "id": "EjRvU8A9e78e"
      },
      "source": [
        "A new column 'Total Guests' is created."
      ]
    },
    {
      "cell_type": "code",
      "metadata": {
        "id": "62nGft__fCEe"
      },
      "source": [
        "hotel_df['total_guests'] = hotel_df['adults'] + hotel_df['children'] + hotel_df['babies']"
      ],
      "execution_count": null,
      "outputs": []
    },
    {
      "cell_type": "markdown",
      "metadata": {
        "id": "0ZIB3SmffKwu"
      },
      "source": [
        "We select only those data where all the three columns (adults, babies and children) are zero i.e the total guests are zero."
      ]
    },
    {
      "cell_type": "code",
      "metadata": {
        "id": "vAnDG1qlfVRO"
      },
      "source": [
        "# dropping those rows which have zero total guests\n",
        "hotel_df.drop(hotel_df[hotel_df['total_guests']==0].index, inplace = True)"
      ],
      "execution_count": null,
      "outputs": []
    },
    {
      "cell_type": "code",
      "metadata": {
        "id": "L7IY1_i-hOoq",
        "colab": {
          "base_uri": "https://localhost:8080/",
          "height": 69
        },
        "outputId": "db459a65-7c02-4989-eacf-bffc463915de"
      },
      "source": [
        "# checking if there are any rows with zero total guests\n",
        "hotel_df[hotel_df.total_guests == 0]"
      ],
      "execution_count": null,
      "outputs": [
        {
          "output_type": "execute_result",
          "data": {
            "text/html": [
              "<div>\n",
              "<style scoped>\n",
              "    .dataframe tbody tr th:only-of-type {\n",
              "        vertical-align: middle;\n",
              "    }\n",
              "\n",
              "    .dataframe tbody tr th {\n",
              "        vertical-align: top;\n",
              "    }\n",
              "\n",
              "    .dataframe thead th {\n",
              "        text-align: right;\n",
              "    }\n",
              "</style>\n",
              "<table border=\"1\" class=\"dataframe\">\n",
              "  <thead>\n",
              "    <tr style=\"text-align: right;\">\n",
              "      <th></th>\n",
              "      <th>hotel</th>\n",
              "      <th>is_canceled</th>\n",
              "      <th>lead_time</th>\n",
              "      <th>arrival_date_year</th>\n",
              "      <th>arrival_date_month</th>\n",
              "      <th>arrival_date_week_number</th>\n",
              "      <th>arrival_date_day_of_month</th>\n",
              "      <th>stays_in_weekend_nights</th>\n",
              "      <th>stays_in_week_nights</th>\n",
              "      <th>adults</th>\n",
              "      <th>children</th>\n",
              "      <th>babies</th>\n",
              "      <th>meal</th>\n",
              "      <th>country</th>\n",
              "      <th>market_segment</th>\n",
              "      <th>distribution_channel</th>\n",
              "      <th>is_repeated_guest</th>\n",
              "      <th>previous_cancellations</th>\n",
              "      <th>previous_bookings_not_canceled</th>\n",
              "      <th>reserved_room_type</th>\n",
              "      <th>assigned_room_type</th>\n",
              "      <th>booking_changes</th>\n",
              "      <th>deposit_type</th>\n",
              "      <th>days_in_waiting_list</th>\n",
              "      <th>customer_type</th>\n",
              "      <th>adr</th>\n",
              "      <th>required_car_parking_spaces</th>\n",
              "      <th>total_of_special_requests</th>\n",
              "      <th>reservation_status</th>\n",
              "      <th>reservation_status_date</th>\n",
              "      <th>total_guests</th>\n",
              "    </tr>\n",
              "  </thead>\n",
              "  <tbody>\n",
              "  </tbody>\n",
              "</table>\n",
              "</div>"
            ],
            "text/plain": [
              "Empty DataFrame\n",
              "Columns: [hotel, is_canceled, lead_time, arrival_date_year, arrival_date_month, arrival_date_week_number, arrival_date_day_of_month, stays_in_weekend_nights, stays_in_week_nights, adults, children, babies, meal, country, market_segment, distribution_channel, is_repeated_guest, previous_cancellations, previous_bookings_not_canceled, reserved_room_type, assigned_room_type, booking_changes, deposit_type, days_in_waiting_list, customer_type, adr, required_car_parking_spaces, total_of_special_requests, reservation_status, reservation_status_date, total_guests]\n",
              "Index: []"
            ]
          },
          "metadata": {},
          "execution_count": 17
        }
      ]
    },
    {
      "cell_type": "markdown",
      "metadata": {
        "id": "J0yZxeeMXfQW"
      },
      "source": [
        "# Exploratory Data Analysis"
      ]
    },
    {
      "cell_type": "markdown",
      "metadata": {
        "id": "XDQN8r3vXqmV"
      },
      "source": [
        "Now that the cleaning of data is done. we can get into analysis."
      ]
    },
    {
      "cell_type": "markdown",
      "metadata": {
        "id": "Z5OEM4R8_VrL"
      },
      "source": [
        "## Which hotel has the most bookings?"
      ]
    },
    {
      "cell_type": "markdown",
      "metadata": {
        "id": "fnj1-iPX_YxJ"
      },
      "source": [
        "Lets start by looking at the number of bookings in each hotel."
      ]
    },
    {
      "cell_type": "code",
      "metadata": {
        "colab": {
          "base_uri": "https://localhost:8080/"
        },
        "id": "xlK_epv0z1dz",
        "outputId": "801c4f6e-def0-42de-d596-71fa10b8d624"
      },
      "source": [
        "hotel_df['hotel'].value_counts()"
      ],
      "execution_count": null,
      "outputs": [
        {
          "output_type": "execute_result",
          "data": {
            "text/plain": [
              "City Hotel      79143\n",
              "Resort Hotel    39585\n",
              "Name: hotel, dtype: int64"
            ]
          },
          "metadata": {},
          "execution_count": 18
        }
      ]
    },
    {
      "cell_type": "code",
      "metadata": {
        "colab": {
          "base_uri": "https://localhost:8080/",
          "height": 372
        },
        "id": "tOm7y4uy3EI5",
        "outputId": "6950ef74-2451-4781-96a8-a65b679e258e"
      },
      "source": [
        "sns.set(rc = {'figure.figsize':(7,5)})\n",
        "sns.countplot(hotel_df.hotel)\n",
        "plt.title(\"Booking count by hotel\")\n",
        "plt.ylabel(\"number of bookings\")"
      ],
      "execution_count": null,
      "outputs": [
        {
          "output_type": "execute_result",
          "data": {
            "text/plain": [
              "Text(0, 0.5, 'number of bookings')"
            ]
          },
          "metadata": {},
          "execution_count": 19
        },
        {
          "output_type": "display_data",
          "data": {
            "image/png": "[encoded data removed]",
            "text/plain": [
              "<Figure size 504x360 with 1 Axes>"
            ]
          },
          "metadata": {}
        }
      ]
    },
    {
      "cell_type": "markdown",
      "metadata": {
        "id": "YLNUIlMy3L2B"
      },
      "source": [
        "We see that the city hotel has many more number of bookings compared to the resort hotel. Around 67 % of the bookings are for city hotel (as seen below)."
      ]
    },
    {
      "cell_type": "code",
      "metadata": {
        "colab": {
          "base_uri": "https://localhost:8080/",
          "height": 303
        },
        "id": "EngmZn9R3yV2",
        "outputId": "f60472cd-a745-4880-8073-69899f178c78"
      },
      "source": [
        "# plotting pie chart of percentage of bookings by hotel type\n",
        "labels = hotel_df['hotel'].value_counts().index.tolist()\n",
        "sizes = hotel_df['hotel'].value_counts().tolist()\n",
        "explode = (0, 0.10)\n",
        "colors = ['orange', 'blue']\n",
        "\n",
        "plt.pie(sizes, explode=explode, labels=labels, colors=colors, autopct='%1.1f%%',startangle =0, textprops={'fontsize': 20},radius=1)\n",
        "plt.show()"
      ],
      "execution_count": null,
      "outputs": [
        {
          "output_type": "display_data",
          "data": {
            "image/png": "[encoded data removed]",
            "text/plain": [
              "<Figure size 504x360 with 1 Axes>"
            ]
          },
          "metadata": {}
        }
      ]
    },
    {
      "cell_type": "markdown",
      "metadata": {
        "id": "e-5BlUTjXucd"
      },
      "source": [
        "## How many bookings were cancelled?"
      ]
    },
    {
      "cell_type": "markdown",
      "metadata": {
        "id": "aToPv6mWvya_"
      },
      "source": [
        "In the dataset, we see a lot of cancelled bookings. The 'is_canceled' column contains this information with '0' referring to bookings that were not cancelled and '1' referring to cancelled bookings."
      ]
    },
    {
      "cell_type": "code",
      "metadata": {
        "colab": {
          "base_uri": "https://localhost:8080/"
        },
        "id": "E_62m-RzXqNP",
        "outputId": "ba572cf6-1f69-48f7-a6eb-1117e2333243"
      },
      "source": [
        " hotel_df['is_canceled'].value_counts()"
      ],
      "execution_count": null,
      "outputs": [
        {
          "output_type": "execute_result",
          "data": {
            "text/plain": [
              "0    74590\n",
              "1    44138\n",
              "Name: is_canceled, dtype: int64"
            ]
          },
          "metadata": {},
          "execution_count": 21
        }
      ]
    },
    {
      "cell_type": "code",
      "metadata": {
        "colab": {
          "base_uri": "https://localhost:8080/",
          "height": 303
        },
        "id": "-3i3_d9IGhfP",
        "outputId": "ae101024-28bb-484a-91d2-11d2654350b5"
      },
      "source": [
        "# plotting pie chart of percentage of bookings cancelled\n",
        "labels = hotel_df['is_canceled'].value_counts().index.tolist()\n",
        "sizes = hotel_df['is_canceled'].value_counts().tolist()\n",
        "explode = (0, 0.10)\n",
        "colors = ['yellow', 'green']\n",
        "\n",
        "plt.pie(sizes, explode=explode, labels=['Not Cancelled', 'Cancelled'], colors=colors, autopct='%1.1f%%',startangle =0, textprops={'fontsize': 20},radius=1)\n",
        "plt.show()"
      ],
      "execution_count": null,
      "outputs": [
        {
          "output_type": "display_data",
          "data": {
            "image/png": "[encoded data removed]",
            "text/plain": [
              "<Figure size 504x360 with 1 Axes>"
            ]
          },
          "metadata": {}
        }
      ]
    },
    {
      "cell_type": "markdown",
      "metadata": {
        "id": "gWe0g83uxPbE"
      },
      "source": [
        "Around 37 % of the total bookings were cancelled. We can gain more information about cancellations by hotel type."
      ]
    },
    {
      "cell_type": "code",
      "metadata": {
        "colab": {
          "base_uri": "https://localhost:8080/",
          "height": 143
        },
        "id": "PIn-vn6nzWSt",
        "outputId": "04f0c963-9059-4b80-b5fd-5b09ada3b233"
      },
      "source": [
        "# cross table to compare the booking cancellation across the two hotels\n",
        "cancel_by_hotel_type = pd.crosstab(hotel_df['hotel'],hotel_df['is_canceled'], rownames=['Hotel'], colnames=['Cancellation'])\n",
        "cancel_by_hotel_type"
      ],
      "execution_count": null,
      "outputs": [
        {
          "output_type": "execute_result",
          "data": {
            "text/html": [
              "<div>\n",
              "<style scoped>\n",
              "    .dataframe tbody tr th:only-of-type {\n",
              "        vertical-align: middle;\n",
              "    }\n",
              "\n",
              "    .dataframe tbody tr th {\n",
              "        vertical-align: top;\n",
              "    }\n",
              "\n",
              "    .dataframe thead th {\n",
              "        text-align: right;\n",
              "    }\n",
              "</style>\n",
              "<table border=\"1\" class=\"dataframe\">\n",
              "  <thead>\n",
              "    <tr style=\"text-align: right;\">\n",
              "      <th>Cancellation</th>\n",
              "      <th>0</th>\n",
              "      <th>1</th>\n",
              "    </tr>\n",
              "    <tr>\n",
              "      <th>Hotel</th>\n",
              "      <th></th>\n",
              "      <th></th>\n",
              "    </tr>\n",
              "  </thead>\n",
              "  <tbody>\n",
              "    <tr>\n",
              "      <th>City Hotel</th>\n",
              "      <td>46082</td>\n",
              "      <td>33061</td>\n",
              "    </tr>\n",
              "    <tr>\n",
              "      <th>Resort Hotel</th>\n",
              "      <td>28508</td>\n",
              "      <td>11077</td>\n",
              "    </tr>\n",
              "  </tbody>\n",
              "</table>\n",
              "</div>"
            ],
            "text/plain": [
              "Cancellation      0      1\n",
              "Hotel                     \n",
              "City Hotel    46082  33061\n",
              "Resort Hotel  28508  11077"
            ]
          },
          "metadata": {},
          "execution_count": 23
        }
      ]
    },
    {
      "cell_type": "code",
      "metadata": {
        "colab": {
          "base_uri": "https://localhost:8080/",
          "height": 431
        },
        "id": "lodPrXyK6hpv",
        "outputId": "17a5b220-578e-4e39-9867-ef9bcf8238e8"
      },
      "source": [
        "# plotting the crosstable\n",
        "cancel_by_hotel_type.plot(kind='bar')\n",
        "plt.title(\"Booking cancellations by hotel type\")\n",
        "plt.ylabel(\"Number of bookings\")"
      ],
      "execution_count": null,
      "outputs": [
        {
          "output_type": "execute_result",
          "data": {
            "text/plain": [
              "Text(0, 0.5, 'Number of bookings')"
            ]
          },
          "metadata": {},
          "execution_count": 24
        },
        {
          "output_type": "display_data",
          "data": {
            "image/png": "[encoded data removed]",
            "text/plain": [
              "<Figure size 504x360 with 1 Axes>"
            ]
          },
          "metadata": {}
        }
      ]
    },
    {
      "cell_type": "markdown",
      "metadata": {
        "id": "F8JUiSRg6_42"
      },
      "source": [
        "We already knew that the overall number of bookings are higher for city hotel and this can be seen in the above plot too. But from the plot we can also understand that the city hotel has a higher percentage of cancellations (i.e the number of cancellations with respect to the total bookings for city hotel is higher in comparison to that of resort hotel). This can be numerically confirmed by using the data from the crosstable 'cancel_by_hotel_type'."
      ]
    },
    {
      "cell_type": "code",
      "metadata": {
        "colab": {
          "base_uri": "https://localhost:8080/"
        },
        "id": "xPESJlB19JXH",
        "outputId": "25d4b5b2-5879-496c-c4eb-2e40fd85a34a"
      },
      "source": [
        "# the percentage of cancelled bookings for city hotel (cancelled city hotel bookings/total city hotel bookings*100)\n",
        "print('Percentage of cancellation for City Hotel ',(cancel_by_hotel_type[1][0]/(cancel_by_hotel_type[0][0] + cancel_by_hotel_type[1][0]))*100)\n",
        "# the percentage of cancelled bookings for resort hotel (cancelled resort hotel bookings/total resort hotel bookings*100)\n",
        "print('Percentage of cancellation for Resort Hotel ',(cancel_by_hotel_type[1][1]/(cancel_by_hotel_type[0][1] + cancel_by_hotel_type[1][1]))*100)"
      ],
      "execution_count": null,
      "outputs": [
        {
          "output_type": "stream",
          "name": "stdout",
          "text": [
            "Percentage of cancellation for City Hotel  41.773751310918215\n",
            "Percentage of cancellation for Resort Hotel  27.982821775925228\n"
          ]
        }
      ]
    },
    {
      "cell_type": "markdown",
      "metadata": {
        "id": "g0BEcK4AdIX6"
      },
      "source": [
        "Let us explore some potential reasons for high cancellation rate."
      ]
    },
    {
      "cell_type": "markdown",
      "metadata": {
        "id": "Jn1ELplOb3lX"
      },
      "source": [
        "### Deposit Type"
      ]
    },
    {
      "cell_type": "markdown",
      "metadata": {
        "id": "o8Fi6Zh9cYjl"
      },
      "source": [
        "Lets make a comparison of number of bookings by deposit type."
      ]
    },
    {
      "cell_type": "code",
      "metadata": {
        "colab": {
          "base_uri": "https://localhost:8080/",
          "height": 427
        },
        "id": "1SUueHNscSoF",
        "outputId": "ec7c9b93-4edd-44c0-ef71-d34d92a3f44b"
      },
      "source": [
        "# plotting booking count by deposit type\n",
        "hotel_df['deposit_type'].value_counts().plot(kind='bar')\n",
        "plt.title(\"Types of deposits\")\n",
        "plt.ylabel(\"number of bookings\")\n",
        "plt.xlabel(\"deposit types\")"
      ],
      "execution_count": null,
      "outputs": [
        {
          "output_type": "execute_result",
          "data": {
            "text/plain": [
              "Text(0.5, 0, 'deposit types')"
            ]
          },
          "metadata": {},
          "execution_count": 26
        },
        {
          "output_type": "display_data",
          "data": {
            "image/png": "[encoded data removed]",
            "text/plain": [
              "<Figure size 504x360 with 1 Axes>"
            ]
          },
          "metadata": {}
        }
      ]
    },
    {
      "cell_type": "markdown",
      "metadata": {
        "id": "gp7ppNJHcjaR"
      },
      "source": [
        "This reveals that most bookings had no deposit made while booking. This makes it inexpensive for a customer to cancel a booking. It could be one of the contributing factors to the high cancellation percentage."
      ]
    },
    {
      "cell_type": "markdown",
      "metadata": {
        "id": "p5b8XxNudP2y"
      },
      "source": [
        "### Days in waiting list"
      ]
    },
    {
      "cell_type": "markdown",
      "metadata": {
        "id": "ixcrHZledx8x"
      },
      "source": [
        "Lets look at the days in waiting lists for cancelled and not cancelled bookings."
      ]
    },
    {
      "cell_type": "code",
      "metadata": {
        "colab": {
          "base_uri": "https://localhost:8080/"
        },
        "id": "UX0rIEQQdSVi",
        "outputId": "0c13445c-b2d1-424a-a62f-22b679f01d29"
      },
      "source": [
        "# average days in waiting list\n",
        "hotel_df.groupby(['is_canceled'])['days_in_waiting_list'].mean()"
      ],
      "execution_count": null,
      "outputs": [
        {
          "output_type": "execute_result",
          "data": {
            "text/plain": [
              "is_canceled\n",
              "0    1.596648\n",
              "1    3.571027\n",
              "Name: days_in_waiting_list, dtype: float64"
            ]
          },
          "metadata": {},
          "execution_count": 27
        }
      ]
    },
    {
      "cell_type": "code",
      "metadata": {
        "colab": {
          "base_uri": "https://localhost:8080/"
        },
        "id": "WQw-bH_ld_Mx",
        "outputId": "acd3da8c-2040-4491-86a7-bbf5915a2f36"
      },
      "source": [
        "# maximum days in waiting list\n",
        "hotel_df.groupby(['is_canceled'])['days_in_waiting_list'].max()"
      ],
      "execution_count": null,
      "outputs": [
        {
          "output_type": "execute_result",
          "data": {
            "text/plain": [
              "is_canceled\n",
              "0    379\n",
              "1    391\n",
              "Name: days_in_waiting_list, dtype: int64"
            ]
          },
          "metadata": {},
          "execution_count": 28
        }
      ]
    },
    {
      "cell_type": "markdown",
      "metadata": {
        "id": "m6bD86TIeCeA"
      },
      "source": [
        "The average days in waiting list was higher for the cancelled bookings. While it is not necessary that a customer will cancel a booking because it took many days to confirm, it certainly is a potential motivation to do so."
      ]
    },
    {
      "cell_type": "markdown",
      "metadata": {
        "id": "2taDN7YJenKw"
      },
      "source": [
        "### Lead time"
      ]
    },
    {
      "cell_type": "markdown",
      "metadata": {
        "id": "CAyk9M6VerDG"
      },
      "source": [
        "Lead time refers to the number of days between the day of booking and arrival date of the guest."
      ]
    },
    {
      "cell_type": "code",
      "metadata": {
        "colab": {
          "base_uri": "https://localhost:8080/"
        },
        "id": "QrI6nYeGekF4",
        "outputId": "92ea6fe2-dbb4-4bf3-c53d-f62f2495744d"
      },
      "source": [
        "# average lead time for cancelled and not cancelled bookings\n",
        "hotel_df.groupby(['is_canceled'])['lead_time'].mean()"
      ],
      "execution_count": null,
      "outputs": [
        {
          "output_type": "execute_result",
          "data": {
            "text/plain": [
              "is_canceled\n",
              "0     80.418796\n",
              "1    144.930015\n",
              "Name: lead_time, dtype: float64"
            ]
          },
          "metadata": {},
          "execution_count": 29
        }
      ]
    },
    {
      "cell_type": "markdown",
      "metadata": {
        "id": "xg7ou2snfCrG"
      },
      "source": [
        "The cancelled bookings having a higher average lead time is understandable. Because the higher the time between booking and checking in, more the time for making the decision to cancel."
      ]
    },
    {
      "cell_type": "markdown",
      "metadata": {
        "id": "W83Mcr06fS_s"
      },
      "source": [
        "### Checked in bookings"
      ]
    },
    {
      "cell_type": "markdown",
      "metadata": {
        "id": "FRmVIVt-HRjd"
      },
      "source": [
        "We decided to exclude the cancelled bookings from the rest of the analysis and only consider those where the guests checked in. As they haven't stayed at the hotels there is no reason to include the cancelled bookings in most of the analysis (for instance, the analysis of the busiest months, where the cancelled bookings are not contributing)."
      ]
    },
    {
      "cell_type": "code",
      "metadata": {
        "id": "Glh2BQx4IbxU"
      },
      "source": [
        "# taking those data where 'is_canceled' is zero i.e the bookings where guests checked-in to a new dataframe\n",
        "hotel_checked_in_df = hotel_df[hotel_df['is_canceled'] == 0]"
      ],
      "execution_count": null,
      "outputs": []
    },
    {
      "cell_type": "code",
      "metadata": {
        "colab": {
          "base_uri": "https://localhost:8080/"
        },
        "id": "j4iu2J7UJXPv",
        "outputId": "1ca7a8a6-6213-46aa-894a-904800b8f8be"
      },
      "source": [
        "# confirm if the number of rows is same as that of the 'not cancelled'\n",
        "hotel_checked_in_df.shape"
      ],
      "execution_count": null,
      "outputs": [
        {
          "output_type": "execute_result",
          "data": {
            "text/plain": [
              "(74590, 31)"
            ]
          },
          "metadata": {},
          "execution_count": 31
        }
      ]
    },
    {
      "cell_type": "markdown",
      "metadata": {
        "id": "7WZvrF67ISEU"
      },
      "source": [
        "Let us take a look at the distribution of bookings by hotel once again now that the cancelled bookings are ignored."
      ]
    },
    {
      "cell_type": "code",
      "metadata": {
        "colab": {
          "base_uri": "https://localhost:8080/",
          "height": 356
        },
        "id": "OGKq-pIZJPEw",
        "outputId": "52d683fd-6266-4ceb-a83d-b8a39d50b403"
      },
      "source": [
        "# booking count by hotel type\n",
        "sns.countplot(data = hotel_checked_in_df, x='hotel')"
      ],
      "execution_count": null,
      "outputs": [
        {
          "output_type": "execute_result",
          "data": {
            "text/plain": [
              "<matplotlib.axes._subplots.AxesSubplot at 0x7fc2d13f39d0>"
            ]
          },
          "metadata": {},
          "execution_count": 32
        },
        {
          "output_type": "display_data",
          "data": {
            "image/png": "[encoded data removed]",
            "text/plain": [
              "<Figure size 504x360 with 1 Axes>"
            ]
          },
          "metadata": {}
        }
      ]
    },
    {
      "cell_type": "markdown",
      "metadata": {
        "id": "_2FamnMeNj37"
      },
      "source": [
        "## Which is the busiest month across the year (2016)?"
      ]
    },
    {
      "cell_type": "markdown",
      "metadata": {
        "id": "t5FBtpDpWB9Z"
      },
      "source": [
        "### Month-wise comparison across the years"
      ]
    },
    {
      "cell_type": "markdown",
      "metadata": {
        "id": "XjKr76UhuVjo"
      },
      "source": [
        "Month-wise comparison across the year was not the first comparison that we did. But this revealed some information which affected the year-wise and month-wise analysis that we did earlier and the conclusions we made from them. So we modified those analysis and pushed them down in the notebook."
      ]
    },
    {
      "cell_type": "code",
      "metadata": {
        "colab": {
          "base_uri": "https://localhost:8080/",
          "height": 481
        },
        "id": "iB7w_HBmS5hr",
        "outputId": "c296fba8-621a-48eb-ca16-295aab75d68c"
      },
      "source": [
        "sns.set(rc = {'figure.figsize':(15,7)})\n",
        "# booking count each month by arrival year\n",
        "sns.countplot(data = hotel_checked_in_df, x='arrival_date_month', hue = 'arrival_date_year')\n",
        "plt.legend(bbox_to_anchor=(1.0, 1))\n",
        "plt.xlabel('Months')\n",
        "plt.ylabel('Number of Bookings')\n",
        "plt.title('Month-wise comparison across three years')"
      ],
      "execution_count": null,
      "outputs": [
        {
          "output_type": "execute_result",
          "data": {
            "text/plain": [
              "Text(0.5, 1.0, 'Month-wise comparison across three years')"
            ]
          },
          "metadata": {},
          "execution_count": 33
        },
        {
          "output_type": "display_data",
          "data": {
            "image/png": "[encoded data removed]",
            "text/plain": [
              "<Figure size 1080x504 with 1 Axes>"
            ]
          },
          "metadata": {}
        }
      ]
    },
    {
      "cell_type": "markdown",
      "metadata": {
        "id": "dcp-beUQiqds"
      },
      "source": [
        "It is interesting to see that in certain years, there are zero bookings in some months! 2017 saw zero bookings in both hotels from September to December while 2015 has zero bookings from January to June. 2016, the middle year, has bookings in all months.\n",
        "\n",
        "At first it seemed like an unexplainable observation, but the reason was simple. This dataset has booking information from July 2015 to August 2017 only!\n",
        "\n",
        "**This means that many of the conclusions we made using arrival year and arrival month information was wrong**.\n",
        "\n",
        "The arrival year data cannot be used to find the busiest year as this dataset doesn't contain complete information of 2015 and 2017. But we still look at the distribution of the available data across the years later in the notebook.\n",
        "\n",
        "Similarly, month information cannot help us find the busiest month across the three years as we do not have complete booking information of all the months. We can only look at the month-wise distribution of the available data. But we can find the busiest month in the year 2016."
      ]
    },
    {
      "cell_type": "markdown",
      "metadata": {
        "id": "5HFJymbpxbdo"
      },
      "source": [
        "### Number of bookings across the months"
      ]
    },
    {
      "cell_type": "markdown",
      "metadata": {
        "id": "ouqQZEByN7X0"
      },
      "source": [
        "We will look at the month-wise distribution of **available data**."
      ]
    },
    {
      "cell_type": "code",
      "metadata": {
        "colab": {
          "base_uri": "https://localhost:8080/"
        },
        "id": "mQI-Y3KGNyfV",
        "outputId": "1b164aec-eaed-4480-b2e8-c29f9a846087"
      },
      "source": [
        "hotel_checked_in_df['arrival_date_month'].value_counts()"
      ],
      "execution_count": null,
      "outputs": [
        {
          "output_type": "execute_result",
          "data": {
            "text/plain": [
              "August       8604\n",
              "July         7880\n",
              "May          7091\n",
              "October      6854\n",
              "March        6566\n",
              "April        6528\n",
              "June         6384\n",
              "September    6360\n",
              "February     5304\n",
              "November     4611\n",
              "December     4347\n",
              "January      4061\n",
              "Name: arrival_date_month, dtype: int64"
            ]
          },
          "metadata": {},
          "execution_count": 34
        }
      ]
    },
    {
      "cell_type": "markdown",
      "metadata": {
        "id": "xBWGpWF2N7PJ"
      },
      "source": [
        "We can display the booking count in the order of months. This can be done by reindexing the pandas series."
      ]
    },
    {
      "cell_type": "code",
      "metadata": {
        "colab": {
          "base_uri": "https://localhost:8080/"
        },
        "id": "ZKBp8KkkOYWL",
        "outputId": "ca2edb87-89bd-4117-ea23-a02837f9c21e"
      },
      "source": [
        "# list for new index in the order of months\n",
        "new_index = ['January','February','March','April','May','June','July','August','September','October','November','December']\n",
        "\n",
        "# the series will be rearranged according to the new index\n",
        "month_count = hotel_checked_in_df['arrival_date_month'].value_counts().reindex(new_index)\n",
        "month_count"
      ],
      "execution_count": null,
      "outputs": [
        {
          "output_type": "execute_result",
          "data": {
            "text/plain": [
              "January      4061\n",
              "February     5304\n",
              "March        6566\n",
              "April        6528\n",
              "May          7091\n",
              "June         6384\n",
              "July         7880\n",
              "August       8604\n",
              "September    6360\n",
              "October      6854\n",
              "November     4611\n",
              "December     4347\n",
              "Name: arrival_date_month, dtype: int64"
            ]
          },
          "metadata": {},
          "execution_count": 35
        }
      ]
    },
    {
      "cell_type": "markdown",
      "metadata": {
        "id": "kcL_53_aP-Od"
      },
      "source": [
        "A bar graph of the booking count across the months can be plotted."
      ]
    },
    {
      "cell_type": "code",
      "metadata": {
        "colab": {
          "base_uri": "https://localhost:8080/",
          "height": 481
        },
        "id": "2etgGRqAO8SB",
        "outputId": "f01c9b1c-c50c-4194-cd27-f9b7f6d5210a"
      },
      "source": [
        "# setting x and y values\n",
        "x_values = month_count.index\n",
        "# y_values = total number of bookings each month\n",
        "y_values = month_count\n",
        "\n",
        "# plotting number of bookings vs months\n",
        "plt.figure(figsize=(15,7))\n",
        "plt.bar(x_values,y_values, color = ['mediumpurple','navajowhite','palevioletred','salmon','lightskyblue','cadetblue','palegreen','coral','slategray','rosybrown','springgreen','plum'])\n",
        "plt.xlabel('Months')\n",
        "plt.ylabel('Number of Bookings')\n",
        "plt.title('Plot 1: Number of Bookings Across Months')"
      ],
      "execution_count": null,
      "outputs": [
        {
          "output_type": "execute_result",
          "data": {
            "text/plain": [
              "Text(0.5, 1.0, 'Plot 1: Number of Bookings Across Months')"
            ]
          },
          "metadata": {},
          "execution_count": 36
        },
        {
          "output_type": "display_data",
          "data": {
            "image/png": "[encoded data removed]",
            "text/plain": [
              "<Figure size 1080x504 with 1 Axes>"
            ]
          },
          "metadata": {}
        }
      ]
    },
    {
      "cell_type": "markdown",
      "metadata": {
        "id": "Ed96vtCgQSds"
      },
      "source": [
        "We cannot make a safe conclusion about the busiest month from this (Plot 1) simply because the booking data of January to June of 2015 and September to December of 2017 are not present. This distribution is incorrect. But we can look at 2016 alone."
      ]
    },
    {
      "cell_type": "markdown",
      "metadata": {
        "id": "foWHLQUbzoSX"
      },
      "source": [
        "### Month-wise distribution across 2016"
      ]
    },
    {
      "cell_type": "markdown",
      "metadata": {
        "id": "FhMM9zhb_Wwm"
      },
      "source": [
        "We can construct a similar bar plot for 2016."
      ]
    },
    {
      "cell_type": "code",
      "metadata": {
        "id": "T6hXBI2Oz4af"
      },
      "source": [
        "# new data frame only containing data of 2016\n",
        "hotel_2016_df = hotel_checked_in_df[hotel_checked_in_df['arrival_date_year'] == 2016]"
      ],
      "execution_count": null,
      "outputs": []
    },
    {
      "cell_type": "code",
      "metadata": {
        "colab": {
          "base_uri": "https://localhost:8080/"
        },
        "id": "qJmd1l3T0bRN",
        "outputId": "50862f33-3b22-4fd9-b61f-0744030c1965"
      },
      "source": [
        "# month-wise booking count for 2016\n",
        "# reindexed to month order\n",
        "month_count_2016 = hotel_2016_df['arrival_date_month'].value_counts().reindex(new_index)\n",
        "month_count_2016"
      ],
      "execution_count": null,
      "outputs": [
        {
          "output_type": "execute_result",
          "data": {
            "text/plain": [
              "January      1658\n",
              "February     2516\n",
              "March        3307\n",
              "April        3343\n",
              "May          3548\n",
              "June         3183\n",
              "July         3052\n",
              "August       3222\n",
              "September    3358\n",
              "October      3657\n",
              "November     2780\n",
              "December     2427\n",
              "Name: arrival_date_month, dtype: int64"
            ]
          },
          "metadata": {},
          "execution_count": 38
        }
      ]
    },
    {
      "cell_type": "code",
      "metadata": {
        "colab": {
          "base_uri": "https://localhost:8080/",
          "height": 481
        },
        "id": "mxhWprIz078r",
        "outputId": "bbb583b3-0199-4e85-caba-2c1d2918282e"
      },
      "source": [
        "# setting x and y values\n",
        "x_values = month_count_2016.index\n",
        "# y_values = total number of bookings each month\n",
        "y_values = month_count_2016\n",
        "\n",
        "# plotting number of bookings vs months\n",
        "plt.figure(figsize=(15,7))\n",
        "plt.bar(x_values,y_values, color = ['mediumpurple','navajowhite','palevioletred','salmon','lightskyblue','cadetblue','palegreen','coral','slategray','rosybrown','springgreen','plum'])\n",
        "plt.xlabel('Months')\n",
        "plt.ylabel('Number of Bookings')\n",
        "plt.title('Plot 2: Number of Bookings Across Months of 2016')"
      ],
      "execution_count": null,
      "outputs": [
        {
          "output_type": "execute_result",
          "data": {
            "text/plain": [
              "Text(0.5, 1.0, 'Plot 2: Number of Bookings Across Months of 2016')"
            ]
          },
          "metadata": {},
          "execution_count": 39
        },
        {
          "output_type": "display_data",
          "data": {
            "image/png": "[encoded data removed]",
            "text/plain": [
              "<Figure size 1080x504 with 1 Axes>"
            ]
          },
          "metadata": {}
        }
      ]
    },
    {
      "cell_type": "markdown",
      "metadata": {
        "id": "qWGq_OvX1IEr"
      },
      "source": [
        "The distribution of data across months is very different in the plot 2 compared to the plot 1. The number of bookings across months seem much more consistent. The booking count for beginning and end of the year with respect to the rest is comparitively higher. Note that we do not have data of beginning and end of the year for 2015 and 2017 respectively and this could be the reason why their count was very less in plot 1.\n",
        "\n",
        "In plot 1, July and August had higher count than the rest but in plot 2 they don't stand out. In fact, October followed by May has the highest booking count in this plot (which is of 2016 alone). July and August had data from all the three years (in case of plot 1). That is why they had a much higher count in the first plot.\n",
        "\n",
        "This is the distribution of 2016 alone and there is no necessity that other years follow similar trends. But comparing plot 1 to this plot allows us to see the errors made in the former due to the incomplete data."
      ]
    },
    {
      "cell_type": "markdown",
      "metadata": {
        "id": "vGr-mpMMEeTh"
      },
      "source": [
        "## Year-wise distribution of the available booking data"
      ]
    },
    {
      "cell_type": "code",
      "metadata": {
        "colab": {
          "base_uri": "https://localhost:8080/"
        },
        "id": "7Q4AxDmjJ1EG",
        "outputId": "4870bd42-9571-4870-941d-68f06ef4dfa1"
      },
      "source": [
        "hotel_checked_in_df['arrival_date_year'].value_counts()"
      ],
      "execution_count": null,
      "outputs": [
        {
          "output_type": "execute_result",
          "data": {
            "text/plain": [
              "2016    36051\n",
              "2017    24814\n",
              "2015    13725\n",
              "Name: arrival_date_year, dtype: int64"
            ]
          },
          "metadata": {},
          "execution_count": 40
        }
      ]
    },
    {
      "cell_type": "markdown",
      "metadata": {
        "id": "HBg5hCSZJ7Ye"
      },
      "source": [
        "We can plot a pie chart and see the percentage of booking in each year. But as mentioned earlier this only gives the distribution of the **available data** across the three years. We do not actually get the percentage due to incomplete information."
      ]
    },
    {
      "cell_type": "code",
      "metadata": {
        "colab": {
          "base_uri": "https://localhost:8080/",
          "height": 411
        },
        "id": "lgNcuNF8KYHt",
        "outputId": "b992b32b-8425-4943-b6e7-8f667b6ee923"
      },
      "source": [
        "# list of labels\n",
        "labels = hotel_checked_in_df['arrival_date_year'].value_counts().index.tolist()\n",
        "# values\n",
        "sizes = hotel_checked_in_df['arrival_date_year'].value_counts().tolist()\n",
        "# measure of how much the slice stands out\n",
        "explode = (0, 0.1, 0.17)\n",
        "colors = ['yellow', 'green', 'orange']\n",
        "# pie chart of percentage of booking data across three years\n",
        "plt.pie(sizes, explode=explode, labels=labels, colors=colors, autopct='%1.1f%%',startangle =0, textprops={'fontsize': 20},radius=1)\n",
        "plt.show()"
      ],
      "execution_count": null,
      "outputs": [
        {
          "output_type": "display_data",
          "data": {
            "image/png": "[encoded data removed]",
            "text/plain": [
              "<Figure size 1080x504 with 1 Axes>"
            ]
          },
          "metadata": {}
        }
      ]
    },
    {
      "cell_type": "markdown",
      "metadata": {
        "id": "SC15lvBILZBU"
      },
      "source": [
        "From the chart we concluded that 2016 was the busiest year out of the three without realising that data was missing. But since we do not have complete data of 2015 and 2017, 2016 will automatically have a higher booking count and so **we cannot conclude that 2016 is the busiest year**."
      ]
    },
    {
      "cell_type": "markdown",
      "metadata": {
        "id": "5RqnSh0eQD0z"
      },
      "source": [
        "## Which is the most sought after room type?"
      ]
    },
    {
      "cell_type": "markdown",
      "metadata": {
        "id": "fgNMDglKWRTd"
      },
      "source": [
        "The room types have been coded with alphabets from A-L for anonymity. Let us have a look at the reserved room types to understand the distribution across the categories."
      ]
    },
    {
      "cell_type": "markdown",
      "metadata": {
        "id": "mKiO1aQdQZse"
      },
      "source": [
        "### Reserved room type"
      ]
    },
    {
      "cell_type": "code",
      "metadata": {
        "colab": {
          "base_uri": "https://localhost:8080/"
        },
        "id": "I4WYglfUWheF",
        "outputId": "f5296247-cfb0-45c9-c77c-147ca2343fe4"
      },
      "source": [
        "hotel_checked_in_df['reserved_room_type'].value_counts()"
      ],
      "execution_count": null,
      "outputs": [
        {
          "output_type": "execute_result",
          "data": {
            "text/plain": [
              "A    51906\n",
              "D    13051\n",
              "E     4578\n",
              "F     2007\n",
              "G     1318\n",
              "B      748\n",
              "C      622\n",
              "H      356\n",
              "L        4\n",
              "Name: reserved_room_type, dtype: int64"
            ]
          },
          "metadata": {},
          "execution_count": 42
        }
      ]
    },
    {
      "cell_type": "code",
      "metadata": {
        "colab": {
          "base_uri": "https://localhost:8080/",
          "height": 535
        },
        "id": "xHgPoUO0QDk3",
        "outputId": "b7f684e6-bf67-424a-ba85-2af39c9fd030"
      },
      "source": [
        "sns.set(rc = {'figure.figsize':(11,8)})\n",
        "# number of bookings by reserved room type\n",
        "sns.countplot(data = hotel_checked_in_df, x='reserved_room_type')\n",
        "plt.title('Number of bookings by reserved room type')"
      ],
      "execution_count": null,
      "outputs": [
        {
          "output_type": "execute_result",
          "data": {
            "text/plain": [
              "Text(0.5, 1.0, 'Number of bookings by reserved room type')"
            ]
          },
          "metadata": {},
          "execution_count": 43
        },
        {
          "output_type": "display_data",
          "data": {
            "image/png": "[encoded data removed]",
            "text/plain": [
              "<Figure size 792x576 with 1 Axes>"
            ]
          },
          "metadata": {}
        }
      ]
    },
    {
      "cell_type": "markdown",
      "metadata": {
        "id": "Wv_AyZoeSlvj"
      },
      "source": [
        "Room type A was reserved the most by a large margin while type L was reserved the least (I and K not reserved at all). Now lets look at the distribution of assigned room types."
      ]
    },
    {
      "cell_type": "markdown",
      "metadata": {
        "id": "VAOoJfEISycS"
      },
      "source": [
        "### Assigned room type"
      ]
    },
    {
      "cell_type": "code",
      "metadata": {
        "colab": {
          "base_uri": "https://localhost:8080/"
        },
        "id": "SlGDq_XdXG7b",
        "outputId": "edbfb987-bc93-4bab-c0d0-bcbc8691275d"
      },
      "source": [
        "hotel_checked_in_df['assigned_room_type'].value_counts()"
      ],
      "execution_count": null,
      "outputs": [
        {
          "output_type": "execute_result",
          "data": {
            "text/plain": [
              "A    40930\n",
              "D    18796\n",
              "E     5774\n",
              "F     2806\n",
              "C     1905\n",
              "G     1755\n",
              "B     1643\n",
              "H      457\n",
              "I      348\n",
              "K      176\n",
              "Name: assigned_room_type, dtype: int64"
            ]
          },
          "metadata": {},
          "execution_count": 44
        }
      ]
    },
    {
      "cell_type": "code",
      "metadata": {
        "colab": {
          "base_uri": "https://localhost:8080/",
          "height": 535
        },
        "id": "xujR6uAyQATf",
        "outputId": "f9abf7a5-669c-4dc7-a0db-a6a12d95bbee"
      },
      "source": [
        "sns.set(rc = {'figure.figsize':(11,8)})\n",
        "# number of bookings by assigned room type\n",
        "sns.countplot(data = hotel_checked_in_df, x='assigned_room_type')\n",
        "plt.title('Number of bookings by assigned room type')"
      ],
      "execution_count": null,
      "outputs": [
        {
          "output_type": "execute_result",
          "data": {
            "text/plain": [
              "Text(0.5, 1.0, 'Number of bookings by assigned room type')"
            ]
          },
          "metadata": {},
          "execution_count": 45
        },
        {
          "output_type": "display_data",
          "data": {
            "image/png": "[encoded data removed]",
            "text/plain": [
              "<Figure size 792x576 with 1 Axes>"
            ]
          },
          "metadata": {}
        }
      ]
    },
    {
      "cell_type": "markdown",
      "metadata": {
        "id": "YYERwJH_S8Sn"
      },
      "source": [
        "Eventhough type A is assigned the most, we can notice some differences in the number of assigned rooms of each types compared to the reserved room types. This implies that some guests who reserved a particular room type did not get the same room type assigned. A comparison can be made graphically to see the difference. Note: certain room types are completely missing in both columns."
      ]
    },
    {
      "cell_type": "code",
      "metadata": {
        "colab": {
          "base_uri": "https://localhost:8080/"
        },
        "id": "QOs5WQOMUAAE",
        "outputId": "ec2a140a-292e-427c-97a6-873b23c96952"
      },
      "source": [
        "room_type_index = ['A','B','C','D','E','F','G','H','I','K','L']\n",
        "# reindexing to make the order same for both the series\n",
        "assigned_room_count = hotel_checked_in_df['assigned_room_type'].value_counts().reindex(room_type_index)\n",
        "reserved_room_count = hotel_checked_in_df['reserved_room_type'].value_counts().reindex(room_type_index)\n",
        "print(reserved_room_count, '\\n')\n",
        "print(assigned_room_count)"
      ],
      "execution_count": null,
      "outputs": [
        {
          "output_type": "stream",
          "name": "stdout",
          "text": [
            "A    51906.0\n",
            "B      748.0\n",
            "C      622.0\n",
            "D    13051.0\n",
            "E     4578.0\n",
            "F     2007.0\n",
            "G     1318.0\n",
            "H      356.0\n",
            "I        NaN\n",
            "K        NaN\n",
            "L        4.0\n",
            "Name: reserved_room_type, dtype: float64 \n",
            "\n",
            "A    40930.0\n",
            "B     1643.0\n",
            "C     1905.0\n",
            "D    18796.0\n",
            "E     5774.0\n",
            "F     2806.0\n",
            "G     1755.0\n",
            "H      457.0\n",
            "I      348.0\n",
            "K      176.0\n",
            "L        NaN\n",
            "Name: assigned_room_type, dtype: float64\n"
          ]
        }
      ]
    },
    {
      "cell_type": "markdown",
      "metadata": {
        "id": "L7GStyHxYw61"
      },
      "source": [
        "Assigned room type column has L type missing i.e there are no bookings where this type was assigned. The reserved room type column has I and K missing which implies that no guests reserved those types however some guests were assigned those room types. So we can replace the missing values with zero."
      ]
    },
    {
      "cell_type": "code",
      "metadata": {
        "id": "OptHJJbKahRR"
      },
      "source": [
        "# replacing missing values with 0\n",
        "assigned_room_count.fillna(0, inplace = True)\n",
        "reserved_room_count.fillna(0, inplace = True)"
      ],
      "execution_count": null,
      "outputs": []
    },
    {
      "cell_type": "code",
      "metadata": {
        "colab": {
          "base_uri": "https://localhost:8080/",
          "height": 627
        },
        "id": "6QFn2T5AYbG3",
        "outputId": "f316fbbb-cdce-44da-fa4a-2a894285ab71"
      },
      "source": [
        "plt.figure(figsize=(10,10))\n",
        "# lineplot of assigned room type\n",
        "plt.plot(assigned_room_count, label = 'Assigned Room Type')\n",
        "# lineplot of reserved room type\n",
        "plt.plot(reserved_room_count, label = 'Reserved Room Type')\n",
        "plt.title('Comparison between assigned room type and reserved room type count')\n",
        "plt.xlabel('Room Types')\n",
        "plt.ylabel('Number of Bookings')\n",
        "plt.legend()\n",
        "plt.show()"
      ],
      "execution_count": null,
      "outputs": [
        {
          "output_type": "display_data",
          "data": {
            "image/png": "[encoded data removed]",
            "text/plain": [
              "<Figure size 720x720 with 1 Axes>"
            ]
          },
          "metadata": {}
        }
      ]
    },
    {
      "cell_type": "markdown",
      "metadata": {
        "id": "UetsZFdIVczK"
      },
      "source": [
        "For every type except A, the number of assigned rooms is more than the number of reserved rooms (its true for I and K also, and the reverse is true for L but the number is negligible in comparison to others) i.e those types have been assigned to many people who did not reserve those types while many people who reserved room A did not get them. Its possible to conclude that A is the most sought after room type and the demand for it is not met (by a large margin)."
      ]
    },
    {
      "cell_type": "markdown",
      "metadata": {
        "id": "8u3j-oeMkWKj"
      },
      "source": [
        "## From which countries do most guests arrive?"
      ]
    },
    {
      "cell_type": "markdown",
      "metadata": {
        "id": "5XkkVv0xu0sG"
      },
      "source": [
        "We can look at the country column to get an idea of the most common countries where guests come from."
      ]
    },
    {
      "cell_type": "code",
      "metadata": {
        "colab": {
          "base_uri": "https://localhost:8080/"
        },
        "id": "ghFmkA6qkZqs",
        "outputId": "a62cbdcf-b856-4072-86ed-07b52e0b9c1d"
      },
      "source": [
        "# total number of bookings from each country.\n",
        "country = hotel_checked_in_df['country'].value_counts()\n",
        "country"
      ],
      "execution_count": null,
      "outputs": [
        {
          "output_type": "execute_result",
          "data": {
            "text/plain": [
              "PRT    20977\n",
              "GBR     9668\n",
              "FRA     8468\n",
              "ESP     6383\n",
              "DEU     6067\n",
              "       ...  \n",
              "FRO        1\n",
              "AIA        1\n",
              "ATF        1\n",
              "BWA        1\n",
              "ASM        1\n",
              "Name: country, Length: 165, dtype: int64"
            ]
          },
          "metadata": {},
          "execution_count": 49
        }
      ]
    },
    {
      "cell_type": "markdown",
      "metadata": {
        "id": "1_HB6y4ct2ir"
      },
      "source": [
        "We will only look at the top 10 countries."
      ]
    },
    {
      "cell_type": "code",
      "metadata": {
        "colab": {
          "base_uri": "https://localhost:8080/"
        },
        "id": "HfSeRxyltxZy",
        "outputId": "ebc55a84-3287-41b1-8b00-7af0a8ccd701"
      },
      "source": [
        "country.head(10)"
      ],
      "execution_count": null,
      "outputs": [
        {
          "output_type": "execute_result",
          "data": {
            "text/plain": [
              "PRT    20977\n",
              "GBR     9668\n",
              "FRA     8468\n",
              "ESP     6383\n",
              "DEU     6067\n",
              "IRL     2542\n",
              "ITA     2428\n",
              "BEL     1868\n",
              "NLD     1716\n",
              "USA     1592\n",
              "Name: country, dtype: int64"
            ]
          },
          "metadata": {},
          "execution_count": 50
        }
      ]
    },
    {
      "cell_type": "code",
      "metadata": {
        "colab": {
          "base_uri": "https://localhost:8080/",
          "height": 466
        },
        "id": "n4gJN6folzAd",
        "outputId": "e1f24c8e-48dc-42fa-b5c4-1a7d512c4ebb"
      },
      "source": [
        "# pie chart to see the distribution of guests across their country of origin\n",
        "country.head(10).plot.pie(autopct='%1.1f%%',radius=1,colors=['yellow','green','blue','orange','red','grey','purple','black']);"
      ],
      "execution_count": null,
      "outputs": [
        {
          "output_type": "display_data",
          "data": {
            "image/png": "[encoded data removed]",
            "text/plain": [
              "<Figure size 792x576 with 1 Axes>"
            ]
          },
          "metadata": {}
        }
      ]
    },
    {
      "cell_type": "markdown",
      "metadata": {
        "id": "6v9SzVK6O768"
      },
      "source": [
        "The percentage is not accurate as a small portion of the pie chart consists of all the other countries where guests come from."
      ]
    },
    {
      "cell_type": "code",
      "metadata": {
        "id": "3wconVxGsyZM"
      },
      "source": [
        "country_names = ['Portugal','United Kingdom','France','Spain','Germany','Ireland','Italy','Belgium','Netherlands','USA']"
      ],
      "execution_count": null,
      "outputs": []
    },
    {
      "cell_type": "code",
      "metadata": {
        "colab": {
          "base_uri": "https://localhost:8080/",
          "height": 481
        },
        "id": "S5MG4Acqst_N",
        "outputId": "1346e419-fa1e-4176-960e-eda4bb0d9056"
      },
      "source": [
        "plt.figure(figsize=(14,7))\n",
        "plt.bar(country_names,country.head(10))\n",
        "plt.xlabel('Country')\n",
        "plt.ylabel('Number of Bookings')\n",
        "plt.title('Number of Bookings Across Countries of Origin')"
      ],
      "execution_count": null,
      "outputs": [
        {
          "output_type": "execute_result",
          "data": {
            "text/plain": [
              "Text(0.5, 1.0, 'Number of Bookings Across Countries of Origin')"
            ]
          },
          "metadata": {},
          "execution_count": 53
        },
        {
          "output_type": "display_data",
          "data": {
            "image/png": "[encoded data removed]",
            "text/plain": [
              "<Figure size 1008x504 with 1 Axes>"
            ]
          },
          "metadata": {}
        }
      ]
    },
    {
      "cell_type": "markdown",
      "metadata": {
        "id": "ikekrHK9vKSl"
      },
      "source": [
        "We find that most of the guests come from European countries, the common country being Portugal (by a large margin) followed by UK and France.\n",
        "\n"
      ]
    },
    {
      "cell_type": "markdown",
      "metadata": {
        "id": "K65tFKV1mLXS"
      },
      "source": [
        "## Which is the largest market segment and distribution channels?"
      ]
    },
    {
      "cell_type": "markdown",
      "metadata": {
        "id": "GG6w08K0lVs8"
      },
      "source": [
        "We made a comparison of bookings by market segment between both hotels. The bookings are made into many 'market segments' based on the system/method through which the booking has been done. We will see later that this column shares similarities with 'distribution channel' column."
      ]
    },
    {
      "cell_type": "code",
      "metadata": {
        "colab": {
          "base_uri": "https://localhost:8080/",
          "height": 485
        },
        "id": "ocJRyzlClvAj",
        "outputId": "2950257b-ae88-423c-b355-2d0e66b01046"
      },
      "source": [
        "# grouping by hotel and market segment\n",
        "market_segment = hotel_checked_in_df.groupby(['hotel','market_segment']).size().unstack()\n",
        "# filling missing values with zero (in case any of the categories are missing in any hotel)\n",
        "market_segment.fillna(0, inplace=True)\n",
        "# bar plot\n",
        "market_segment.plot(kind='bar',figsize=(12,6))\n",
        "plt.title(\"Booking count by market segment for both hotels\")\n",
        "plt.ylabel(\"Number of bookings\")\n",
        "plt.xlabel(\"Hotels\")"
      ],
      "execution_count": null,
      "outputs": [
        {
          "output_type": "execute_result",
          "data": {
            "text/plain": [
              "Text(0.5, 0, 'Hotels')"
            ]
          },
          "metadata": {},
          "execution_count": 54
        },
        {
          "output_type": "display_data",
          "data": {
            "image/png": "[encoded data removed]",
            "text/plain": [
              "<Figure size 864x432 with 1 Axes>"
            ]
          },
          "metadata": {}
        }
      ]
    },
    {
      "cell_type": "markdown",
      "metadata": {
        "id": "QirLmCZsmCov"
      },
      "source": [
        "We can see that the largest market segment is online TA (i.e most bookings come through online travel agencies), followed by offline TA/TO (TO refers to Tour Operators), in both hotels. The smallest segment is Aviation (with resort hotel having 0 or close to 0 bookings from Aviation)."
      ]
    },
    {
      "cell_type": "markdown",
      "metadata": {
        "id": "_tgE8mFO27m7"
      },
      "source": [
        "Similar comparison can be done for distribution channel as well. It refers to the intermediary through which the service is provided to the customers. Hence, there are similarities between market segment and distribution channel in the information they provide."
      ]
    },
    {
      "cell_type": "code",
      "metadata": {
        "colab": {
          "base_uri": "https://localhost:8080/",
          "height": 485
        },
        "id": "3l4nxnqTl4dT",
        "outputId": "9a0b0ae4-5923-4e31-fbf9-4f35439bb3c0"
      },
      "source": [
        "# grouping the dataset by hotel and distribution channel\n",
        "dist_channel = hotel_checked_in_df.groupby(['hotel','distribution_channel']).size().unstack()\n",
        "# filling missing values\n",
        "dist_channel.fillna(0, inplace=True)\n",
        "# bar plot\n",
        "dist_channel.plot(kind='bar',figsize=(12,6))\n",
        "plt.title(\"Booking count by distribution channel for both hotels\")\n",
        "plt.ylabel(\"Number of bookings\")\n",
        "plt.xlabel(\"Hotels\")"
      ],
      "execution_count": null,
      "outputs": [
        {
          "output_type": "execute_result",
          "data": {
            "text/plain": [
              "Text(0.5, 0, 'Hotels')"
            ]
          },
          "metadata": {},
          "execution_count": 55
        },
        {
          "output_type": "display_data",
          "data": {
            "image/png": "[encoded data removed]",
            "text/plain": [
              "<Figure size 864x432 with 1 Axes>"
            ]
          },
          "metadata": {}
        }
      ]
    },
    {
      "cell_type": "markdown",
      "metadata": {
        "id": "zdsfFQ_BnWPg"
      },
      "source": [
        "The most common distribution channel is TA/TO for both hotels, which implies that the booking was done through either travel agents or tour operators. Let us see if this matches with the information we got from the market segment column."
      ]
    },
    {
      "cell_type": "code",
      "metadata": {
        "colab": {
          "base_uri": "https://localhost:8080/"
        },
        "id": "u45FvRjC5k_M",
        "outputId": "2ed23ea2-4ee7-432d-da92-e87f862bfab8"
      },
      "source": [
        "# booking count by market segments\n",
        "m_segment_ct = hotel_checked_in_df['market_segment'].value_counts()\n",
        "m_segment_ct"
      ],
      "execution_count": null,
      "outputs": [
        {
          "output_type": "execute_result",
          "data": {
            "text/plain": [
              "Online TA        35599\n",
              "Offline TA/TO    15854\n",
              "Direct           10504\n",
              "Groups            7692\n",
              "Corporate         4121\n",
              "Complementary      637\n",
              "Aviation           183\n",
              "Name: market_segment, dtype: int64"
            ]
          },
          "metadata": {},
          "execution_count": 56
        }
      ]
    },
    {
      "cell_type": "code",
      "metadata": {
        "colab": {
          "base_uri": "https://localhost:8080/"
        },
        "id": "4DFade_E6A-S",
        "outputId": "b19f3eaa-b090-464e-84b2-3264fc2893dd"
      },
      "source": [
        "# booking count by distribution channel\n",
        "d_channel_ct = hotel_checked_in_df['distribution_channel'].value_counts()\n",
        "d_channel_ct"
      ],
      "execution_count": null,
      "outputs": [
        {
          "output_type": "execute_result",
          "data": {
            "text/plain": [
              "TA/TO        57507\n",
              "Direct       11908\n",
              "Corporate     5018\n",
              "GDS            156\n",
              "Undefined        1\n",
              "Name: distribution_channel, dtype: int64"
            ]
          },
          "metadata": {},
          "execution_count": 57
        }
      ]
    },
    {
      "cell_type": "markdown",
      "metadata": {
        "id": "zjOiXLma8u1z"
      },
      "source": [
        "Both columns contain categories which refer to the same thing. For example, Direct, Corporate, TA/TO (which can possibly be compared to the sum of Online TA and Offline TA/TO from market segment). However, there are slight discrepancies between the values."
      ]
    },
    {
      "cell_type": "code",
      "metadata": {
        "colab": {
          "base_uri": "https://localhost:8080/"
        },
        "id": "wKDnYAd85YO7",
        "outputId": "7f8eefef-ce97-4d02-86c2-7c3ca4db1a6e"
      },
      "source": [
        "# TA/TO booking count from market segment\n",
        "print('TA/TO from market segment: ', (m_segment_ct[0] + m_segment_ct[1]))\n",
        "# TA/TO booking count from distribution channel\n",
        "print('TA/TO from distribution channel: ',d_channel_ct[0], '\\n')\n",
        "# direct from market segment\n",
        "print('Direct booking from market segment: ', m_segment_ct[2])\n",
        "# direct from distribution channel\n",
        "print('Direct booking from distribution channel: ', d_channel_ct[1], '\\n')\n",
        "# corporate from market segment\n",
        "print('Corporate booking from market segment: ', m_segment_ct[4])\n",
        "# corporate from distribution channel\n",
        "print('Corporate booking from distribution channel: ', d_channel_ct[2])"
      ],
      "execution_count": null,
      "outputs": [
        {
          "output_type": "stream",
          "name": "stdout",
          "text": [
            "TA/TO from market segment:  51453\n",
            "TA/TO from distribution channel:  57507 \n",
            "\n",
            "Direct booking from market segment:  10504\n",
            "Direct booking from distribution channel:  11908 \n",
            "\n",
            "Corporate booking from market segment:  4121\n",
            "Corporate booking from distribution channel:  5018\n"
          ]
        }
      ]
    },
    {
      "cell_type": "markdown",
      "metadata": {
        "id": "JiNZAz5rBccE"
      },
      "source": [
        "The discrepancies could be a result of mistakes while recording the data or there could be some other factor affecting the categorisation that is unknown to us."
      ]
    },
    {
      "cell_type": "markdown",
      "metadata": {
        "id": "bcf711Jdn1Ze"
      },
      "source": [
        "## How many nights do the guests stay?"
      ]
    },
    {
      "cell_type": "markdown",
      "metadata": {
        "id": "9_eW5MHIC19k"
      },
      "source": [
        "To have a look at the distribution of total nights stayed, we need to create a new column as the dataset has separate columns for week nights and weekend nights."
      ]
    },
    {
      "cell_type": "code",
      "metadata": {
        "id": "OV0Ja26j205Q"
      },
      "source": [
        "# new column total nights created\n",
        "hotel_checked_in_df['stays_total_nights'] = hotel_checked_in_df['stays_in_week_nights'] + hotel_checked_in_df['stays_in_weekend_nights']"
      ],
      "execution_count": null,
      "outputs": []
    },
    {
      "cell_type": "code",
      "metadata": {
        "colab": {
          "base_uri": "https://localhost:8080/",
          "height": 313
        },
        "id": "d_Ci3ITI3Ek-",
        "outputId": "6509a7d2-ac0c-4b09-dd38-6fdb62cf76ee"
      },
      "source": [
        "# observing the total nights column\n",
        "hotel_checked_in_df.tail(5)"
      ],
      "execution_count": null,
      "outputs": [
        {
          "output_type": "execute_result",
          "data": {
            "text/html": [
              "<div>\n",
              "<style scoped>\n",
              "    .dataframe tbody tr th:only-of-type {\n",
              "        vertical-align: middle;\n",
              "    }\n",
              "\n",
              "    .dataframe tbody tr th {\n",
              "        vertical-align: top;\n",
              "    }\n",
              "\n",
              "    .dataframe thead th {\n",
              "        text-align: right;\n",
              "    }\n",
              "</style>\n",
              "<table border=\"1\" class=\"dataframe\">\n",
              "  <thead>\n",
              "    <tr style=\"text-align: right;\">\n",
              "      <th></th>\n",
              "      <th>hotel</th>\n",
              "      <th>is_canceled</th>\n",
              "      <th>lead_time</th>\n",
              "      <th>arrival_date_year</th>\n",
              "      <th>arrival_date_month</th>\n",
              "      <th>arrival_date_week_number</th>\n",
              "      <th>arrival_date_day_of_month</th>\n",
              "      <th>stays_in_weekend_nights</th>\n",
              "      <th>stays_in_week_nights</th>\n",
              "      <th>adults</th>\n",
              "      <th>children</th>\n",
              "      <th>babies</th>\n",
              "      <th>meal</th>\n",
              "      <th>country</th>\n",
              "      <th>market_segment</th>\n",
              "      <th>distribution_channel</th>\n",
              "      <th>is_repeated_guest</th>\n",
              "      <th>previous_cancellations</th>\n",
              "      <th>previous_bookings_not_canceled</th>\n",
              "      <th>reserved_room_type</th>\n",
              "      <th>assigned_room_type</th>\n",
              "      <th>booking_changes</th>\n",
              "      <th>deposit_type</th>\n",
              "      <th>days_in_waiting_list</th>\n",
              "      <th>customer_type</th>\n",
              "      <th>adr</th>\n",
              "      <th>required_car_parking_spaces</th>\n",
              "      <th>total_of_special_requests</th>\n",
              "      <th>reservation_status</th>\n",
              "      <th>reservation_status_date</th>\n",
              "      <th>total_guests</th>\n",
              "      <th>stays_total_nights</th>\n",
              "    </tr>\n",
              "  </thead>\n",
              "  <tbody>\n",
              "    <tr>\n",
              "      <th>119385</th>\n",
              "      <td>City Hotel</td>\n",
              "      <td>0</td>\n",
              "      <td>23</td>\n",
              "      <td>2017</td>\n",
              "      <td>August</td>\n",
              "      <td>35</td>\n",
              "      <td>30</td>\n",
              "      <td>2</td>\n",
              "      <td>5</td>\n",
              "      <td>2</td>\n",
              "      <td>0.0</td>\n",
              "      <td>0</td>\n",
              "      <td>BB</td>\n",
              "      <td>BEL</td>\n",
              "      <td>Offline TA/TO</td>\n",
              "      <td>TA/TO</td>\n",
              "      <td>0</td>\n",
              "      <td>0</td>\n",
              "      <td>0</td>\n",
              "      <td>A</td>\n",
              "      <td>A</td>\n",
              "      <td>0</td>\n",
              "      <td>No Deposit</td>\n",
              "      <td>0</td>\n",
              "      <td>Transient</td>\n",
              "      <td>96.14</td>\n",
              "      <td>0</td>\n",
              "      <td>0</td>\n",
              "      <td>Check-Out</td>\n",
              "      <td>2017-09-06</td>\n",
              "      <td>2.0</td>\n",
              "      <td>7</td>\n",
              "    </tr>\n",
              "    <tr>\n",
              "      <th>119386</th>\n",
              "      <td>City Hotel</td>\n",
              "      <td>0</td>\n",
              "      <td>102</td>\n",
              "      <td>2017</td>\n",
              "      <td>August</td>\n",
              "      <td>35</td>\n",
              "      <td>31</td>\n",
              "      <td>2</td>\n",
              "      <td>5</td>\n",
              "      <td>3</td>\n",
              "      <td>0.0</td>\n",
              "      <td>0</td>\n",
              "      <td>BB</td>\n",
              "      <td>FRA</td>\n",
              "      <td>Online TA</td>\n",
              "      <td>TA/TO</td>\n",
              "      <td>0</td>\n",
              "      <td>0</td>\n",
              "      <td>0</td>\n",
              "      <td>E</td>\n",
              "      <td>E</td>\n",
              "      <td>0</td>\n",
              "      <td>No Deposit</td>\n",
              "      <td>0</td>\n",
              "      <td>Transient</td>\n",
              "      <td>225.43</td>\n",
              "      <td>0</td>\n",
              "      <td>2</td>\n",
              "      <td>Check-Out</td>\n",
              "      <td>2017-09-07</td>\n",
              "      <td>3.0</td>\n",
              "      <td>7</td>\n",
              "    </tr>\n",
              "    <tr>\n",
              "      <th>119387</th>\n",
              "      <td>City Hotel</td>\n",
              "      <td>0</td>\n",
              "      <td>34</td>\n",
              "      <td>2017</td>\n",
              "      <td>August</td>\n",
              "      <td>35</td>\n",
              "      <td>31</td>\n",
              "      <td>2</td>\n",
              "      <td>5</td>\n",
              "      <td>2</td>\n",
              "      <td>0.0</td>\n",
              "      <td>0</td>\n",
              "      <td>BB</td>\n",
              "      <td>DEU</td>\n",
              "      <td>Online TA</td>\n",
              "      <td>TA/TO</td>\n",
              "      <td>0</td>\n",
              "      <td>0</td>\n",
              "      <td>0</td>\n",
              "      <td>D</td>\n",
              "      <td>D</td>\n",
              "      <td>0</td>\n",
              "      <td>No Deposit</td>\n",
              "      <td>0</td>\n",
              "      <td>Transient</td>\n",
              "      <td>157.71</td>\n",
              "      <td>0</td>\n",
              "      <td>4</td>\n",
              "      <td>Check-Out</td>\n",
              "      <td>2017-09-07</td>\n",
              "      <td>2.0</td>\n",
              "      <td>7</td>\n",
              "    </tr>\n",
              "    <tr>\n",
              "      <th>119388</th>\n",
              "      <td>City Hotel</td>\n",
              "      <td>0</td>\n",
              "      <td>109</td>\n",
              "      <td>2017</td>\n",
              "      <td>August</td>\n",
              "      <td>35</td>\n",
              "      <td>31</td>\n",
              "      <td>2</td>\n",
              "      <td>5</td>\n",
              "      <td>2</td>\n",
              "      <td>0.0</td>\n",
              "      <td>0</td>\n",
              "      <td>BB</td>\n",
              "      <td>GBR</td>\n",
              "      <td>Online TA</td>\n",
              "      <td>TA/TO</td>\n",
              "      <td>0</td>\n",
              "      <td>0</td>\n",
              "      <td>0</td>\n",
              "      <td>A</td>\n",
              "      <td>A</td>\n",
              "      <td>0</td>\n",
              "      <td>No Deposit</td>\n",
              "      <td>0</td>\n",
              "      <td>Transient</td>\n",
              "      <td>104.40</td>\n",
              "      <td>0</td>\n",
              "      <td>0</td>\n",
              "      <td>Check-Out</td>\n",
              "      <td>2017-09-07</td>\n",
              "      <td>2.0</td>\n",
              "      <td>7</td>\n",
              "    </tr>\n",
              "    <tr>\n",
              "      <th>119389</th>\n",
              "      <td>City Hotel</td>\n",
              "      <td>0</td>\n",
              "      <td>205</td>\n",
              "      <td>2017</td>\n",
              "      <td>August</td>\n",
              "      <td>35</td>\n",
              "      <td>29</td>\n",
              "      <td>2</td>\n",
              "      <td>7</td>\n",
              "      <td>2</td>\n",
              "      <td>0.0</td>\n",
              "      <td>0</td>\n",
              "      <td>HB</td>\n",
              "      <td>DEU</td>\n",
              "      <td>Online TA</td>\n",
              "      <td>TA/TO</td>\n",
              "      <td>0</td>\n",
              "      <td>0</td>\n",
              "      <td>0</td>\n",
              "      <td>A</td>\n",
              "      <td>A</td>\n",
              "      <td>0</td>\n",
              "      <td>No Deposit</td>\n",
              "      <td>0</td>\n",
              "      <td>Transient</td>\n",
              "      <td>151.20</td>\n",
              "      <td>0</td>\n",
              "      <td>2</td>\n",
              "      <td>Check-Out</td>\n",
              "      <td>2017-09-07</td>\n",
              "      <td>2.0</td>\n",
              "      <td>9</td>\n",
              "    </tr>\n",
              "  </tbody>\n",
              "</table>\n",
              "</div>"
            ],
            "text/plain": [
              "             hotel  is_canceled  ...  total_guests  stays_total_nights\n",
              "119385  City Hotel            0  ...           2.0                   7\n",
              "119386  City Hotel            0  ...           3.0                   7\n",
              "119387  City Hotel            0  ...           2.0                   7\n",
              "119388  City Hotel            0  ...           2.0                   7\n",
              "119389  City Hotel            0  ...           2.0                   9\n",
              "\n",
              "[5 rows x 32 columns]"
            ]
          },
          "metadata": {},
          "execution_count": 60
        }
      ]
    },
    {
      "cell_type": "markdown",
      "metadata": {
        "id": "ejrEdmu1DTlA"
      },
      "source": [
        "We can make a comparison beteen the two hotels by plotting the average total nights stayed."
      ]
    },
    {
      "cell_type": "code",
      "metadata": {
        "colab": {
          "base_uri": "https://localhost:8080/"
        },
        "id": "xS3gm1pQDgbr",
        "outputId": "2c6f0d5c-2140-4d87-a321-2ed283a454b9"
      },
      "source": [
        "# average total nights by hotel type\n",
        "hotel_checked_in_df.groupby(['hotel'])['stays_total_nights'].mean()"
      ],
      "execution_count": null,
      "outputs": [
        {
          "output_type": "execute_result",
          "data": {
            "text/plain": [
              "hotel\n",
              "City Hotel      2.917864\n",
              "Resort Hotel    4.165953\n",
              "Name: stays_total_nights, dtype: float64"
            ]
          },
          "metadata": {},
          "execution_count": 61
        }
      ]
    },
    {
      "cell_type": "code",
      "metadata": {
        "id": "bskaQmFFnAno",
        "colab": {
          "base_uri": "https://localhost:8080/",
          "height": 355
        },
        "outputId": "019021f8-4c1e-4655-cf94-7859752d16f0"
      },
      "source": [
        "# average of total night stayed by guests (by hotel type)\n",
        "sns.set(rc={'figure.figsize':(5,5)})\n",
        "sns.barplot(x=\"hotel\",y=\"stays_total_nights\",data= hotel_checked_in_df)\n",
        "plt.title(\"Average total nights by hotel\")\n",
        "plt.ylabel(\"total nights (Mean)\")\n",
        "plt.show()"
      ],
      "execution_count": null,
      "outputs": [
        {
          "output_type": "display_data",
          "data": {
            "image/png": "[encoded data removed]",
            "text/plain": [
              "<Figure size 360x360 with 1 Axes>"
            ]
          },
          "metadata": {}
        }
      ]
    },
    {
      "cell_type": "markdown",
      "metadata": {
        "id": "TU2jPcLwpOGJ"
      },
      "source": [
        "We can see that resort hotel has a slightly higher average of total nights stayed. But we can get a clearer picture by looking at the distribution of nights stayed, as there could be outliers affecting the mean. We will take the top 15 'total nights stayed' by booking count into consideration."
      ]
    },
    {
      "cell_type": "code",
      "metadata": {
        "colab": {
          "base_uri": "https://localhost:8080/"
        },
        "id": "u_jljO3D4V0K",
        "outputId": "43159f48-c214-46c1-e138-346766616563"
      },
      "source": [
        "total_nights_count = hotel_checked_in_df['stays_total_nights'].value_counts().head(15)\n",
        "total_nights_count"
      ],
      "execution_count": null,
      "outputs": [
        {
          "output_type": "execute_result",
          "data": {
            "text/plain": [
              "3     15682\n",
              "1     15523\n",
              "2     15365\n",
              "4     10996\n",
              "7      5671\n",
              "5      5098\n",
              "6      2309\n",
              "10      775\n",
              "8       710\n",
              "14      653\n",
              "0       617\n",
              "9       524\n",
              "11      273\n",
              "12      122\n",
              "13       88\n",
              "Name: stays_total_nights, dtype: int64"
            ]
          },
          "metadata": {},
          "execution_count": 63
        }
      ]
    },
    {
      "cell_type": "code",
      "metadata": {
        "colab": {
          "base_uri": "https://localhost:8080/",
          "height": 427
        },
        "id": "ZVhS__W440-B",
        "outputId": "8b78b3cc-7fef-42a2-90d5-ec05040bd3c6"
      },
      "source": [
        "# plotting distribution of bookings across the total nights stayed\n",
        "plt.figure(figsize = (10,6))\n",
        "plt.bar(total_nights_count.index,total_nights_count)\n",
        "plt.title(\"Distribution of bookings across total nights\")\n",
        "plt.ylabel(\"Number of bookings\")\n",
        "plt.xlabel(\"Total nights\")"
      ],
      "execution_count": null,
      "outputs": [
        {
          "output_type": "execute_result",
          "data": {
            "text/plain": [
              "Text(0.5, 0, 'Total nights')"
            ]
          },
          "metadata": {},
          "execution_count": 64
        },
        {
          "output_type": "display_data",
          "data": {
            "image/png": "[encoded data removed]",
            "text/plain": [
              "<Figure size 720x432 with 1 Axes>"
            ]
          },
          "metadata": {}
        }
      ]
    },
    {
      "cell_type": "markdown",
      "metadata": {
        "id": "b2km1T4wFiSe"
      },
      "source": [
        "Most number of bookings are with 3 total nights followed by 1 night and 2 nights. A simple count plot will allow us to visualise the same distribution comparison between the two hotels."
      ]
    },
    {
      "cell_type": "code",
      "metadata": {
        "colab": {
          "base_uri": "https://localhost:8080/",
          "height": 644
        },
        "id": "iMmizaWdGAPL",
        "outputId": "3974ab9a-ce04-4522-b57e-fef0c3536f09"
      },
      "source": [
        "sns.set(rc={'figure.figsize':(10,10)})\n",
        "# number of bookings across total nights stayed (comparison by hotel type)\n",
        "sns.countplot(data = hotel_checked_in_df, x = 'stays_total_nights', hue = 'hotel')\n",
        "plt.title(\"Distribution of bookings across total nights by hotel\")\n",
        "plt.ylabel(\"Number of bookings\")\n",
        "plt.xlabel(\"Total nights stayed\")"
      ],
      "execution_count": null,
      "outputs": [
        {
          "output_type": "execute_result",
          "data": {
            "text/plain": [
              "Text(0.5, 0, 'Total nights stayed')"
            ]
          },
          "metadata": {},
          "execution_count": 65
        },
        {
          "output_type": "display_data",
          "data": {
            "image/png": "[encoded data removed]",
            "text/plain": [
              "<Figure size 720x720 with 1 Axes>"
            ]
          },
          "metadata": {}
        }
      ]
    },
    {
      "cell_type": "markdown",
      "metadata": {
        "id": "EhRxAasJGQsz"
      },
      "source": [
        "We can see the plot following the pattern of overall total nights stayed (city and resort hotel together). However, we can spot something interesting here. City hotel has a higher number of bookings for lower number of total nights (1-6), whereas for higher number (7-14), resort hotel has higher booking in comparison (eventhough the total booking count is small for higher number of days). Especially in case of 14 (even 12 and 13) total nights, resort hotel is the only one contributing. So, we could say resort hotel has a higher number of bookings where guests stayed many nights."
      ]
    },
    {
      "cell_type": "markdown",
      "metadata": {
        "id": "gTUFA0PNHo9N"
      },
      "source": [
        "## How many booking changes did customers make?"
      ]
    },
    {
      "cell_type": "markdown",
      "metadata": {
        "id": "g8XJ2HO0JSLQ"
      },
      "source": [
        "Let us look at the booking changes column which refers to the number of booking changes made."
      ]
    },
    {
      "cell_type": "code",
      "metadata": {
        "colab": {
          "base_uri": "https://localhost:8080/"
        },
        "id": "W05bzuzbI5FD",
        "outputId": "bc54bdc5-4b35-4efc-e6d7-33d8a1f4d93f"
      },
      "source": [
        "# booking count by number of booking changes\n",
        "hotel_checked_in_df['booking_changes'].value_counts().head()"
      ],
      "execution_count": null,
      "outputs": [
        {
          "output_type": "execute_result",
          "data": {
            "text/plain": [
              "0    59515\n",
              "1    10806\n",
              "2     3000\n",
              "3      768\n",
              "4      299\n",
              "Name: booking_changes, dtype: int64"
            ]
          },
          "metadata": {},
          "execution_count": 66
        }
      ]
    },
    {
      "cell_type": "markdown",
      "metadata": {
        "id": "MWo7_TORJZWP"
      },
      "source": [
        "Pie chart gives us the percentage of bookings for each 'booking change' number."
      ]
    },
    {
      "cell_type": "code",
      "metadata": {
        "colab": {
          "base_uri": "https://localhost:8080/",
          "height": 537
        },
        "id": "TDuEnvgcH9ZE",
        "outputId": "1600acfc-70f4-419e-b6b6-9596ba3ca26d"
      },
      "source": [
        "plt.figure(figsize = (9,9))\n",
        "hotel_checked_in_df['booking_changes'].value_counts().plot.pie(autopct='%1.1f%%',radius=1)"
      ],
      "execution_count": null,
      "outputs": [
        {
          "output_type": "execute_result",
          "data": {
            "text/plain": [
              "<matplotlib.axes._subplots.AxesSubplot at 0x7fc2d0d42a90>"
            ]
          },
          "metadata": {},
          "execution_count": 67
        },
        {
          "output_type": "display_data",
          "data": {
            "image/png": "[encoded data removed]",
            "text/plain": [
              "<Figure size 648x648 with 1 Axes>"
            ]
          },
          "metadata": {}
        }
      ]
    },
    {
      "cell_type": "markdown",
      "metadata": {
        "id": "GTvQGmnIJlZv"
      },
      "source": [
        "Most bookings (79.8%) did not have any changes made and it is followed by 1 and 2 changes."
      ]
    },
    {
      "cell_type": "markdown",
      "metadata": {
        "id": "so0cAa1Zr4d2"
      },
      "source": [
        "## How many of the customers are repeated guests?"
      ]
    },
    {
      "cell_type": "markdown",
      "metadata": {
        "id": "tmqTpep3J432"
      },
      "source": [
        "The percentage of repeated customers (those who have made a booking in the same hotel before) can be a potential indicator to the quality of the service. "
      ]
    },
    {
      "cell_type": "code",
      "metadata": {
        "colab": {
          "base_uri": "https://localhost:8080/"
        },
        "id": "wvhNZ8BGrREh",
        "outputId": "94fafd72-89f8-4b43-b207-5e9e276ac185"
      },
      "source": [
        "# booking count by whether the customer is a repeated guest or not\n",
        "hotel_checked_in_df['is_repeated_guest'].value_counts()"
      ],
      "execution_count": null,
      "outputs": [
        {
          "output_type": "execute_result",
          "data": {
            "text/plain": [
              "0    71389\n",
              "1     3201\n",
              "Name: is_repeated_guest, dtype: int64"
            ]
          },
          "metadata": {},
          "execution_count": 68
        }
      ]
    },
    {
      "cell_type": "code",
      "metadata": {
        "id": "5Ktm__cmvG2-",
        "colab": {
          "base_uri": "https://localhost:8080/",
          "height": 320
        },
        "outputId": "51a526bc-0964-4800-f11b-1eb954dae2e7"
      },
      "source": [
        "# pie chart showing the percentage of repeated guests\n",
        "plt.figure(figsize = (5,5))\n",
        "hotel_checked_in_df['is_repeated_guest'].value_counts().plot.pie(autopct='%1.1f%%')"
      ],
      "execution_count": null,
      "outputs": [
        {
          "output_type": "execute_result",
          "data": {
            "text/plain": [
              "<matplotlib.axes._subplots.AxesSubplot at 0x7fc2d0e18b10>"
            ]
          },
          "metadata": {},
          "execution_count": 69
        },
        {
          "output_type": "display_data",
          "data": {
            "image/png": "[encoded data removed]",
            "text/plain": [
              "<Figure size 360x360 with 1 Axes>"
            ]
          },
          "metadata": {}
        }
      ]
    },
    {
      "cell_type": "markdown",
      "metadata": {
        "id": "F4qd3YH0Lgvi"
      },
      "source": [
        "Out of the dataset, very few of the guests are repeated. There are a very few customers who are coming again. However this does not necessarily imply bad quality service. We know that there are a lot of guests coming from a variety of countries. Many of the guests could be foreign and thus are less likely to come again."
      ]
    },
    {
      "cell_type": "markdown",
      "metadata": {
        "id": "UJN7FPqxN8EX"
      },
      "source": [
        "## Which hotel is more expensive?"
      ]
    },
    {
      "cell_type": "markdown",
      "metadata": {
        "id": "zYqNA4zIUuRU"
      },
      "source": [
        "Average Daily Rate is a measure of the average rental revenue for an occupied room per day. Let us look at the mean ADR of the two hotels"
      ]
    },
    {
      "cell_type": "code",
      "metadata": {
        "colab": {
          "base_uri": "https://localhost:8080/"
        },
        "id": "6XPg_mHv7NLD",
        "outputId": "9fd1d730-5d43-4c8e-bfde-51f3a19bb5e9"
      },
      "source": [
        "# average adr for both hotels\n",
        "hotel_checked_in_df.groupby(['hotel'])['adr'].mean()"
      ],
      "execution_count": null,
      "outputs": [
        {
          "output_type": "execute_result",
          "data": {
            "text/plain": [
              "hotel\n",
              "City Hotel      106.036946\n",
              "Resort Hotel     91.271430\n",
              "Name: adr, dtype: float64"
            ]
          },
          "metadata": {},
          "execution_count": 70
        }
      ]
    },
    {
      "cell_type": "markdown",
      "metadata": {
        "id": "SCQAWG007fnQ"
      },
      "source": [
        "The city hotel has a higher average ADR than resort hotel.\n",
        "\n",
        "An estimate of the total amount paid for each booking can be calculated by multiplying the ADR of that booking with the total nights stayed."
      ]
    },
    {
      "cell_type": "code",
      "metadata": {
        "id": "GzYnFWoZPboL"
      },
      "source": [
        "# new column for total rate\n",
        "hotel_checked_in_df['total_rate'] = hotel_checked_in_df['adr'] * hotel_checked_in_df['stays_total_nights']"
      ],
      "execution_count": null,
      "outputs": []
    },
    {
      "cell_type": "code",
      "metadata": {
        "colab": {
          "base_uri": "https://localhost:8080/"
        },
        "id": "KVR1LCbiV8-w",
        "outputId": "d4c54626-57c4-4df6-f761-886dcfbbd80f"
      },
      "source": [
        "# the number of cases where the guests stayed 0 nights\n",
        "hotel_checked_in_df[hotel_checked_in_df['stays_total_nights'] == 0].shape[0]"
      ],
      "execution_count": null,
      "outputs": [
        {
          "output_type": "execute_result",
          "data": {
            "text/plain": [
              "617"
            ]
          },
          "metadata": {},
          "execution_count": 72
        }
      ]
    },
    {
      "cell_type": "markdown",
      "metadata": {
        "id": "JlGxS3zcWiNO"
      },
      "source": [
        "For the cases where the guests stayed zero nights the total amount estimate will come out to be zero. We will ignore this issue as the number of such cases is negligible and we don't have enough details to calculate the amount in such situations."
      ]
    },
    {
      "cell_type": "code",
      "metadata": {
        "colab": {
          "base_uri": "https://localhost:8080/"
        },
        "id": "QlVvTAGP7yup",
        "outputId": "65c3b5a7-1297-44af-aa00-156a16d8fc5b"
      },
      "source": [
        "# average total rate of both hotels\n",
        "hotel_checked_in_df.groupby(['hotel'])['total_rate'].mean()"
      ],
      "execution_count": null,
      "outputs": [
        {
          "output_type": "execute_result",
          "data": {
            "text/plain": [
              "hotel\n",
              "City Hotel      312.154681\n",
              "Resort Hotel    403.918361\n",
              "Name: total_rate, dtype: float64"
            ]
          },
          "metadata": {},
          "execution_count": 73
        }
      ]
    },
    {
      "cell_type": "markdown",
      "metadata": {
        "id": "JZkI5c8i8k4Q"
      },
      "source": [
        "The average total rate of resort hotel is higher than that of city hotel eventhough the average ADR was higher for city hotel. This is because many of the guests at resort hotel had longer stays in comparison to city hotel."
      ]
    },
    {
      "cell_type": "code",
      "metadata": {
        "colab": {
          "base_uri": "https://localhost:8080/",
          "height": 431
        },
        "id": "BnsLZ0pX8CEX",
        "outputId": "753cad92-06b4-4d71-ddea-b607605d68e7"
      },
      "source": [
        "plt.figure(figsize=(7,5))\n",
        "# sum of total rates for both hotels\n",
        "hotel_checked_in_df.groupby(['hotel'])['total_rate'].sum().plot(kind='bar')\n",
        "plt.title(\"Total Revenue by hotel\")\n",
        "plt.ylabel(\"revenue\")"
      ],
      "execution_count": null,
      "outputs": [
        {
          "output_type": "execute_result",
          "data": {
            "text/plain": [
              "Text(0, 0.5, 'revenue')"
            ]
          },
          "metadata": {},
          "execution_count": 74
        },
        {
          "output_type": "display_data",
          "data": {
            "image/png": "[encoded data removed]",
            "text/plain": [
              "<Figure size 504x360 with 1 Axes>"
            ]
          },
          "metadata": {}
        }
      ]
    },
    {
      "cell_type": "markdown",
      "metadata": {
        "id": "S_Yr4cTO9OMD"
      },
      "source": [
        "The total revenue (sum of the total rates of all bookings across a hotel) is higher for the city hotel eventhough the average total rate is lower. This is understandable as the city hotel had a much higher number of bookings."
      ]
    },
    {
      "cell_type": "markdown",
      "metadata": {
        "id": "Uig-bpO592rD"
      },
      "source": [
        "### Month-wise comparison of ADR and Total Rate for 2016"
      ]
    },
    {
      "cell_type": "markdown",
      "metadata": {
        "id": "3BKqhSOYDafs"
      },
      "source": [
        "Since 2016 is the only year that we have complete information of, we can plot a month-wise graph of ADR and total rate for both hotels, for the year 2016."
      ]
    },
    {
      "cell_type": "code",
      "metadata": {
        "colab": {
          "base_uri": "https://localhost:8080/",
          "height": 427
        },
        "id": "wIaA4-quxyY7",
        "outputId": "d4bdeacc-13f5-46d7-81bb-6f7fad7f2b14"
      },
      "source": [
        "plt.figure(figsize=(12,6))\n",
        "# mean adr is calculated by default\n",
        "# plotting mean adr across months\n",
        "sns.lineplot(x = 'arrival_date_month', y = 'adr', hue = 'hotel', data = hotel_2016_df)\n",
        "plt.title(\"Average ADR across months for 2016\")\n",
        "plt.ylabel(\"average ADR\")\n",
        "plt.xlabel(\"Months\")"
      ],
      "execution_count": null,
      "outputs": [
        {
          "output_type": "execute_result",
          "data": {
            "text/plain": [
              "Text(0.5, 0, 'Months')"
            ]
          },
          "metadata": {},
          "execution_count": 75
        },
        {
          "output_type": "display_data",
          "data": {
            "image/png": "[encoded data removed]",
            "text/plain": [
              "<Figure size 864x432 with 1 Axes>"
            ]
          },
          "metadata": {}
        }
      ]
    },
    {
      "cell_type": "markdown",
      "metadata": {
        "id": "VeDgM06_JJQ6"
      },
      "source": [
        "Resort hotel has ADR fluctuating across the months with July and August having very high ADR compared to the rest. City hotel has a fairly consistent ADR throughout the year 2016. Its not necessary that total rate follow the same trend as the total days can change the trend."
      ]
    },
    {
      "cell_type": "code",
      "metadata": {
        "id": "IY5fC7efSC6q"
      },
      "source": [
        "# total nights column created for 2016 data frame\n",
        "hotel_2016_df['stays_total_nights'] = hotel_2016_df['stays_in_week_nights'] + hotel_2016_df['stays_in_weekend_nights']\n",
        "\n",
        "# total rate column constructed in data frame of 2016 bookings\n",
        "hotel_2016_df['total_rate'] = hotel_2016_df['adr'] * hotel_2016_df['stays_total_nights']"
      ],
      "execution_count": null,
      "outputs": []
    },
    {
      "cell_type": "code",
      "metadata": {
        "colab": {
          "base_uri": "https://localhost:8080/",
          "height": 427
        },
        "id": "VYnpmrElPoF6",
        "outputId": "91bfa635-39d9-46c7-9fe4-5829616e89c4"
      },
      "source": [
        "plt.figure(figsize=(12,6))\n",
        "# mean total rate is calculated by default\n",
        "# plotting mean total rate across the months\n",
        "sns.lineplot(x = 'arrival_date_month', y = 'total_rate', hue= 'hotel', data = hotel_2016_df)\n",
        "plt.title(\"Average total rate across months for 2016\")\n",
        "plt.ylabel(\"average total rate\")\n",
        "plt.xlabel(\"months\")"
      ],
      "execution_count": null,
      "outputs": [
        {
          "output_type": "execute_result",
          "data": {
            "text/plain": [
              "Text(0.5, 0, 'months')"
            ]
          },
          "metadata": {},
          "execution_count": 77
        },
        {
          "output_type": "display_data",
          "data": {
            "image/png": "[encoded data removed]",
            "text/plain": [
              "<Figure size 864x432 with 1 Axes>"
            ]
          },
          "metadata": {}
        }
      ]
    },
    {
      "cell_type": "markdown",
      "metadata": {
        "id": "bfURvHfpJjTv"
      },
      "source": [
        "The total rate plot has a trend similar to that of ADR. The resort hotel is very expensive from June to September (especially July and August) compared to the rest of the months. City hotel remains relatively consistent throughout. For both hotels bookings were cheapest during January."
      ]
    },
    {
      "cell_type": "markdown",
      "metadata": {
        "id": "3XIZ7Vc5onHL"
      },
      "source": [
        "## Summary"
      ]
    },
    {
      "cell_type": "markdown",
      "metadata": {
        "id": "UI3k5mTxoqyY"
      },
      "source": [
        "We were able to ask some good questions and gain some really important information that could help take steps to improve the experience for customers as well as benefit the hotel businesses."
      ]
    },
    {
      "cell_type": "markdown",
      "metadata": {
        "id": "SOr_5dQKpfz_"
      },
      "source": [
        "**Which hotel has the most bookings?**\n",
        "\n",
        "The city hotel has 66.7% of the total bookings. The resort hotel is less commonly booked as it probably would be catered towards special events, vacations etc.\n",
        "\n",
        "**How many bookings were cancelled?**\n",
        "\n",
        "37.2% of the bookings were cancelled. Some factors contributing to the high number could be not having to deposit an amount while booking, high waiting time for the booking to get confirmed and high lead time (between booking and checking in). Making deposit mandatory could reduce cancellations but could also push away some customers. Reducing waiting list time can definitely improve customer experience.\n",
        "\n",
        "**Which is the busiest month across the year 2016?**\n",
        "\n",
        "Month-wise analysis comparing three years showed that the dataset did not have complete information about all the months across three years. October was the busiest month in 2016 (by small margin) and January was the least busy. However, general information the demands across the months cannot be obtained from the data.\n",
        "\n",
        "**Which is the most sought after room type?**\n",
        "\n",
        "Type A is the most sought after one and it is the only room type for which the demand is not being met. Increasing the availability of type A can improve the customer experience.\n",
        "\n",
        "**From which countries do most guests arrive?**\n",
        "\n",
        "A large percentage of the guests are from Portugal followed by UK and France. Catering to the specific needs of those people (for example, availabilty of their local cuisine) can improve the customer experience and the popularity of the hotels.\n",
        "\n",
        "**Which is the largest market segment and distribution channels?**\n",
        "\n",
        "Travel agencies and tour operators are the most common intermediaries. And among them, online travel agencies are more popular. Prioritising and improving online presence will increase the reach of the hotels. The best way for customers to connect to these hotels is through online TA.\n",
        "\n",
        "**How many nights do the guests stay?**\n",
        "\n",
        "1-3 nights is the most common length of stay. Hotels can make arrangements accordingly. Longer stay is more common in Resort hotel.\n",
        "\n",
        "**How many booking changes did customers make?**\n",
        "\n",
        "Most customers make less or no changes in their booking.\n",
        "\n",
        "**How many of the customers are repeated guests?**\n",
        "\n",
        "Very few (4.3%) of the customers are repeated guests. Steps can be taken to improve the connection with the customers in order to motivate them to use the services again (for example, discounts for repeated customers)\n",
        "\n",
        "**Which hotel is more expensive?**\n",
        "\n",
        "The city hotel has a higher ADR (more expensive). The city hotel earns a higher revenue than the resort hotel as it is much more actively booked. Across months in 2016, July and August has a very high rate, in case of resort hotel. But prices of city hotel remain fairly consistent."
      ]
    }
  ]
}